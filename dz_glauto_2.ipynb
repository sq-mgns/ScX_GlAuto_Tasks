{
  "nbformat": 4,
  "nbformat_minor": 0,
  "metadata": {
    "colab": {
      "provenance": []
    },
    "kernelspec": {
      "name": "python3",
      "display_name": "Python 3"
    },
    "language_info": {
      "name": "python"
    }
  },
  "cells": [
    {
      "cell_type": "code",
      "execution_count": 3,
      "metadata": {
        "colab": {
          "base_uri": "https://localhost:8080/"
        },
        "id": "miBBw-2HHKqk",
        "outputId": "0b0634cd-a8c0-4bfa-f4af-3fc18ea54b70"
      },
      "outputs": [
        {
          "output_type": "stream",
          "name": "stdout",
          "text": [
            "введите нижнюю границу диапазона:\n",
            "-1000\n",
            "введите верхнюю границу диапазона:\n",
            "1000\n",
            "Загадайте целое число от -1000 до 1000\n",
            "Ваше число равно 0 ?\n",
            "Введите: \"=\", \"<\", \">\" или \"exit\"\n",
            ">\n",
            "Ваше число равно 501 ?\n",
            "Введите: \"=\", \"<\", \">\" или \"exit\"\n",
            ">\n",
            "Ваше число равно 751 ?\n",
            "Введите: \"=\", \"<\", \">\" или \"exit\"\n",
            ">\n",
            "Ваше число равно 876 ?\n",
            "Введите: \"=\", \"<\", \">\" или \"exit\"\n",
            "<\n",
            "Ваше число равно 814 ?\n",
            "Введите: \"=\", \"<\", \">\" или \"exit\"\n",
            "<\n",
            "Ваше число равно 783 ?\n",
            "Введите: \"=\", \"<\", \">\" или \"exit\"\n",
            ">\n",
            "Ваше число равно 799 ?\n",
            "Введите: \"=\", \"<\", \">\" или \"exit\"\n",
            "<\n",
            "Ваше число равно 791 ?\n",
            "Введите: \"=\", \"<\", \">\" или \"exit\"\n",
            "<\n",
            "Ваше число равно 787 ?\n",
            "Введите: \"=\", \"<\", \">\" или \"exit\"\n",
            ">\n",
            "Ваше число равно 789 ?\n",
            "Введите: \"=\", \"<\", \">\" или \"exit\"\n",
            ">\n",
            "Ваше число: 789 !\n"
          ]
        }
      ],
      "source": [
        "print('введите нижнюю границу диапазона:')\n",
        "niz_graniza = int(input())\n",
        "print('введите верхнюю границу диапазона:')\n",
        "verh_graniza = int(input())\n",
        "\n",
        "array = []\n",
        "\n",
        "for i in range(niz_graniza, verh_graniza + 1):\n",
        "    array.append(i)\n",
        "\n",
        "print('Загадайте целое число от', niz_graniza, 'до', verh_graniza)\n",
        "\n",
        "found = False\n",
        "\n",
        "while not found:\n",
        "    sredn = len(array) // 2\n",
        "    ans = array[sredn]\n",
        "\n",
        "    print('Ваше число равно', ans, '?')\n",
        "    print('Введите: \"=\", \"<\", \">\" или \"exit\"')\n",
        "\n",
        "    user_ans = input().lower()\n",
        "\n",
        "    if user_ans == 'exit':\n",
        "        break\n",
        "    elif user_ans == '=':\n",
        "        print('Ваше число:', ans)\n",
        "        found = True\n",
        "    elif user_ans == '<':\n",
        "        array = array[:sredn]\n",
        "    elif user_ans == '>':\n",
        "        array = array[sredn + 1:]\n",
        "    else:\n",
        "        print('Ле, брат, используй только \"=\", \"<\", \">\" или \"exit\"')\n",
        "\n",
        "    if len(array) == 1 and not found:\n",
        "        print('Ваше число:', ans, '!')\n",
        "        found = True\n",
        "        break"
      ]
    }
  ]
}