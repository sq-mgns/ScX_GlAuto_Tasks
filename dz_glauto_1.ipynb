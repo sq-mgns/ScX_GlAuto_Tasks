{
  "nbformat": 4,
  "nbformat_minor": 0,
  "metadata": {
    "colab": {
      "provenance": []
    },
    "kernelspec": {
      "name": "python3",
      "display_name": "Python 3"
    },
    "language_info": {
      "name": "python"
    }
  },
  "cells": [
    {
      "cell_type": "code",
      "execution_count": 2,
      "metadata": {
        "colab": {
          "base_uri": "https://localhost:8080/"
        },
        "id": "miBBw-2HHKqk",
        "outputId": "7606f6b6-447e-48cf-a68f-c39ee49ef3e6"
      },
      "outputs": [
        {
          "output_type": "stream",
          "name": "stdout",
          "text": [
            "Хочешь сняться в кино? [Да/Нет]\n",
            "да\n",
            "Халк или Локи? [Халк/Локи]\n",
            "локи\n",
            "Кого ты больше любишь? [Маму/Папу]\n",
            "маму\n",
            "Иди к папе и спроси кого больше любишь\n"
          ]
        }
      ],
      "source": [
        "print(\"Хочешь сняться в кино? [Да/Нет]\")\n",
        "a = input().lower()\n",
        "if a == \"да\":\n",
        "    print(\"Халк или Локи? [Халк/Локи]\")\n",
        "    b = input().lower()\n",
        "    if b == 'халк':\n",
        "        print(\"Бицуха сколько, брат? [Число]\")\n",
        "        c = int(input())\n",
        "        if c < 60:\n",
        "            print('Иди домой, воин')\n",
        "        elif c >= 60:\n",
        "            print(\"Добро пожаловать в стаю тигр\")\n",
        "        else:\n",
        "            print('ле, нормально пиши')\n",
        "    elif b == 'локи':\n",
        "        print('Кого ты больше любишь? [Маму/Папу]')\n",
        "        d = input().lower()\n",
        "        if d == 'папу':\n",
        "            print('Иди домой к папочке')\n",
        "        elif d == 'маму':\n",
        "            print('Иди к папе и спроси кого больше любишь')\n",
        "        else:\n",
        "            print('ле, пиши нормально')\n",
        "    else:\n",
        "        print('ле, пиши нормально')\n",
        "elif a == 'нет':\n",
        "    print(\"Бывай\")\n",
        "else:\n",
        "    print('ле, пиши нормально')"
      ]
    }
  ]
}