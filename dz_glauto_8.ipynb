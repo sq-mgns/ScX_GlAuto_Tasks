{
  "nbformat": 4,
  "nbformat_minor": 0,
  "metadata": {
    "colab": {
      "provenance": [],
      "toc_visible": true
    },
    "kernelspec": {
      "name": "python3",
      "display_name": "Python 3"
    },
    "language_info": {
      "name": "python"
    }
  },
  "cells": [
    {
      "cell_type": "code",
      "source": [
        "import random\n",
        "from enum import StrEnum\n",
        "from threading import ExceptHookArgs\n",
        "from typing import Self\n",
        "from rich import print as rprint"
      ],
      "metadata": {
        "id": "bG1lOTGF5WB5"
      },
      "execution_count": 79,
      "outputs": []
    },
    {
      "cell_type": "code",
      "source": [
        "class Names(StrEnum):\n",
        "    JOHN = f\"[dark_turquoise]Джон Леннон[/dark_turquoise]\"\n",
        "    PAUL = f\"[navy_blue]Пол Маккартни[/navy_blue]\"\n",
        "    GEORGE = f\"[bright_magenta]Джордж Харрисон[/bright_magenta]\"\n",
        "    RINGO = f\"[deep_pink4]Ринго Старр[/deep_pink4]\""
      ],
      "metadata": {
        "id": "fhKuuVfx6xjs"
      },
      "execution_count": 80,
      "outputs": []
    },
    {
      "cell_type": "code",
      "source": [
        "class Beetle:\n",
        "    health_points: int\n",
        "    name: Names\n",
        "    max_power: int\n",
        "\n",
        "    def __init__(\n",
        "        self,\n",
        "        health_points: int = 100,\n",
        "        name: Names = Names.JOHN,\n",
        "        max_power: int = 10\n",
        "    ) -> None:\n",
        "        self.health_points = health_points\n",
        "        self.name = name\n",
        "        self.max_power = max_power\n",
        "\n",
        "    def __eq__(self, other: Self) -> bool:\n",
        "        return self.health_points == other.health_points\n",
        "    def __lt__(self, other: Self) -> bool:\n",
        "        return self.health_points < other.health_points\n",
        "    def __le__(self, other: Self) -> bool:\n",
        "        return self.health_points <= other.health_points\n",
        "    def __str__(self) -> str:\n",
        "        return f'Жук(имя=\"{self.name}\", здоровье={self.health_points!r}, урон={self.max_power!r})'\n",
        "\n",
        "    def styling(self) -> str:\n",
        "        if self.name is Names.JOHN:\n",
        "            return \"в [yellow italic]стиле Джонни[/yellow italic]\"\n",
        "        elif self.name is Names.PAUL:\n",
        "            return \"в [green italic]стиле Маккартни[/green italic]\"\n",
        "        elif self.name is Names.GEORGE:\n",
        "            return \"в [dark_goldenrod italic]стиле Харрисона[/dark_goldenrod italic]\"\n",
        "        elif self.name is Names.RINGO:\n",
        "            return \"в [pale_turquoise1 italic]стиле Ринго Старра[/pale_turquoise1 italic]\"\n",
        "\n",
        "    def attack(self, other: Self) -> None:\n",
        "        attack_power = random.randint(1, self.max_power)\n",
        "        rprint(f\"{self.name} атакует {other.name} {self.styling()} нанося {attack_power} единиц(ы) урона\")\n",
        "        other.health_points -= attack_power"
      ],
      "metadata": {
        "id": "eELEGxlZ7MLS"
      },
      "execution_count": 81,
      "outputs": []
    },
    {
      "cell_type": "code",
      "source": [
        "class BeetlesArmy:\n",
        "    beetles_list: list[Beetle]\n",
        "    beetles_name: Names\n",
        "    beetles_max_health_points: int\n",
        "    beetles_max_power: int\n",
        "\n",
        "    def __init__(\n",
        "        self,\n",
        "        beetles_name: Names,\n",
        "        beetles_army_size: int = 20,\n",
        "        beetles_max_health_points: int = 100,\n",
        "        beetles_max_power: int = 10\n",
        "    ):\n",
        "        self.beetles_list = []\n",
        "        self.beetles_name = beetles_name\n",
        "        self.beetles_max_health_points = beetles_max_health_points\n",
        "        self.beetles_max_power = beetles_max_power\n",
        "        for _ in range(beetles_army_size):\n",
        "            beetle = Beetle(\n",
        "                health_points=random.randint(1, self.beetles_max_health_points),\n",
        "                name=self.beetles_name,\n",
        "                max_power= self.beetles_max_power,\n",
        "            )\n",
        "            self.beetles_list.append(beetle)\n",
        "\n",
        "    def __len__(self) -> int:\n",
        "        return len(self.beetles_list)\n",
        "    def __add__(self, other: Self) -> Self:\n",
        "        if self.beetles_name != other.beetles_name:\n",
        "            raise ValueError(\"Ошибка.\")\n",
        "        new_beetles_list: list[Beetle] = self.beetles_list + other.beetles_list\n",
        "        new_army = self.__class__(\n",
        "            beetles_army_size=1,\n",
        "            beetles_name=self.beetles_name,\n",
        "            beetles_max_health_points=self.beetles_max_health_points,\n",
        "            beettles_max_power = self.beetles_max_power\n",
        "        )\n",
        "        new_army.beetles_list = new_beetles_list\n",
        "        return new_army\n",
        "    def rprint_army_listing(self):\n",
        "        for beetle in self.beetles_list:\n",
        "            rprint(beetle)"
      ],
      "metadata": {
        "id": "-Gi6STCw7IkN"
      },
      "execution_count": 82,
      "outputs": []
    },
    {
      "cell_type": "code",
      "source": [
        "def start():\n",
        "    rprint(\"Хочешь сыграть в игру?\")\n",
        "    user_army_size = int(input(\"Для начала выбери кол-во армий [от 2 до 4]: \"))\n",
        "\n",
        "    if user_army_size > 4 or user_army_size < 2:\n",
        "        rprint(\"Нужно выбрать число от 2 до 4.\")\n",
        "    else:\n",
        "        initiate_armies(user_army_size)"
      ],
      "metadata": {
        "id": "pFv0MHHr7PrF"
      },
      "execution_count": 83,
      "outputs": []
    },
    {
      "cell_type": "code",
      "source": [
        "def initiate_armies(user_army_size):\n",
        "    armies_names = []\n",
        "    while len(armies_names) < user_army_size:\n",
        "        rprint(f\"Как будет называться {len(armies_names) + 1} армия? ([dark_turquoise]JOHN[/dark_turquoise], [navy_blue]PAUL[/navy_blue], [bright_magenta]GEORGE[/bright_magenta], [deep_pink4]RINGO[/deep_pink4]): \")\n",
        "        army_name = input()\n",
        "\n",
        "        if army_name.upper() not in [\"JOHN\", \"PAUL\", \"GEORGE\", \"RINGO\"]:\n",
        "            rprint(\"Такого варианта нет. Выберите вариант из этого списка.\")\n",
        "        else:\n",
        "            armies_names.append(army_name)\n",
        "\n",
        "\n",
        "    armies = []\n",
        "    for i, army_name in enumerate(armies_names):\n",
        "        name_enum = Names[army_name.upper()]\n",
        "\n",
        "        army_size = int(input(f\"Выберите кол-во жуков в армии {i + 1}: \"))\n",
        "\n",
        "        max_health_points = int(input(f\"Выберите максимальное кол-во здоровья у жуков в армии {i + 1}: \"))\n",
        "\n",
        "        max_power = int(input(f\"Выберите максимальный урон, который будут иметь жуки в армии {i + 1}: \"))\n",
        "\n",
        "        army = BeetlesArmy(\n",
        "            beetles_name = name_enum,\n",
        "            beetles_army_size = army_size,\n",
        "            beetles_max_health_points = max_health_points,\n",
        "            beetles_max_power = max_power\n",
        "        )\n",
        "\n",
        "        armies.append(army)\n",
        "\n",
        "    rprint(f\"\\nСоздание {len(armies)} армий завершено!\")\n",
        "\n",
        "    decision = input(\"\\nНачнем? [Да/Нет]\")\n",
        "\n",
        "    if decision.upper() == \"ДА\":\n",
        "        battle(armies)\n",
        "    elif decision.upper() == \"НЕТ\":\n",
        "        rprint(\"Что-ж, видимо в другой раз.\")\n",
        "    else:\n",
        "        rprint(\"Ошибка. Выберите вариант среди предложенных.\")"
      ],
      "metadata": {
        "id": "THLfxm7M7U7b"
      },
      "execution_count": 88,
      "outputs": []
    },
    {
      "cell_type": "code",
      "source": [
        "def battle(armies):\n",
        "    while len(armies) > 1:\n",
        "        ba1 = armies[0]\n",
        "        ba2 = armies[1]\n",
        "\n",
        "        if len(ba1) !=0 and len(ba2) != 0:\n",
        "            ba1.beetles_list[0].attack(ba2.beetles_list[0])\n",
        "            if ba2.beetles_list[0].health_points <= 0:\n",
        "                rprint(f\"{ba2.beetles_list[0].name} был(а) [bold red3]уничтожен(а)[/bold red3]!\")\n",
        "                ba2.beetles_list.pop(0)\n",
        "                if (ba1.beetles_list[0].health_points + 10) <= ba1.beetles_max_health_points:\n",
        "                    ba1.beetles_list[0].health_points += 10\n",
        "            if len(ba2) != 0:\n",
        "                ba2.beetles_list[0].attack(ba1.beetles_list[0])\n",
        "                if ba1.beetles_list[0].health_points <= 0:\n",
        "                    rprint(f\"{ba1.beetles_list[0].name} был(а) [bold red3]уничтожен(а)[/bold red3]!\")\n",
        "                    ba1.beetles_list.pop(0)\n",
        "                    if (ba2.beetles_list[0].health_points + 10) <= ba1.beetles_max_health_points:\n",
        "                        ba2.beetles_list[0].health_points += 10\n",
        "            rprint(f\"\\nАрмия {ba1.beetles_name}: {len(ba1)} жуков осталось\", f\"Армия {ba2.beetles_name}: {len(ba2)} жуков осталось\", \" \", sep=\"\\n\")\n",
        "\n",
        "        else:\n",
        "            if len(ba1) == 0:\n",
        "                rprint(\" \", f\"Армия {ba1.beetles_name} была [bold red3]уничтожена[/bold red3]!\", \" \", sep=\"\\n\")\n",
        "                armies.pop(0)\n",
        "            else:\n",
        "                rprint(\" \", f\"Армия {ba2.beetles_name} была [bold red3]уничтожена[/bold red3]!\", \" \", sep=\"\\n\")\n",
        "                armies.pop(1)\n",
        "\n",
        "    rprint(\" \", f\"Армия {armies[0].beetles_name} [bold green1]победила[/bold green1]!\", \" \", sep=\"\\n\")"
      ],
      "metadata": {
        "id": "2q2j9Igm7YEd"
      },
      "execution_count": 85,
      "outputs": []
    },
    {
      "cell_type": "code",
      "source": [
        "start()"
      ],
      "metadata": {
        "colab": {
          "base_uri": "https://localhost:8080/",
          "height": 1000
        },
        "id": "PIZnxJgb7ZHR",
        "outputId": "137ba53d-dc92-4b1a-dd90-c6b8db5e14cf"
      },
      "execution_count": 89,
      "outputs": [
        {
          "output_type": "display_data",
          "data": {
            "text/plain": [
              "Хочешь сыграть в игру?\n"
            ],
            "text/html": [
              "<pre style=\"white-space:pre;overflow-x:auto;line-height:normal;font-family:Menlo,'DejaVu Sans Mono',consolas,'Courier New',monospace\">Хочешь сыграть в игру?\n",
              "</pre>\n"
            ]
          },
          "metadata": {}
        },
        {
          "name": "stdout",
          "output_type": "stream",
          "text": [
            "Для начала выбери кол-во армий [от 2 до 4]: 4\n"
          ]
        },
        {
          "output_type": "display_data",
          "data": {
            "text/plain": [
              "Как будет называться \u001b[1;36m1\u001b[0m армия? \u001b[1m(\u001b[0m\u001b[38;5;44mJOHN\u001b[0m, \u001b[38;5;17mPAUL\u001b[0m, \u001b[95mGEORGE\u001b[0m, \u001b[38;5;125mRINGO\u001b[0m\u001b[1m)\u001b[0m: \n"
            ],
            "text/html": [
              "<pre style=\"white-space:pre;overflow-x:auto;line-height:normal;font-family:Menlo,'DejaVu Sans Mono',consolas,'Courier New',monospace\">Как будет называться <span style=\"color: #008080; text-decoration-color: #008080; font-weight: bold\">1</span> армия? <span style=\"font-weight: bold\">(</span><span style=\"color: #00d7d7; text-decoration-color: #00d7d7\">JOHN</span>, <span style=\"color: #00005f; text-decoration-color: #00005f\">PAUL</span>, <span style=\"color: #ff00ff; text-decoration-color: #ff00ff\">GEORGE</span>, <span style=\"color: #af005f; text-decoration-color: #af005f\">RINGO</span><span style=\"font-weight: bold\">)</span>: \n",
              "</pre>\n"
            ]
          },
          "metadata": {}
        },
        {
          "name": "stdout",
          "output_type": "stream",
          "text": [
            "john\n"
          ]
        },
        {
          "output_type": "display_data",
          "data": {
            "text/plain": [
              "Как будет называться \u001b[1;36m2\u001b[0m армия? \u001b[1m(\u001b[0m\u001b[38;5;44mJOHN\u001b[0m, \u001b[38;5;17mPAUL\u001b[0m, \u001b[95mGEORGE\u001b[0m, \u001b[38;5;125mRINGO\u001b[0m\u001b[1m)\u001b[0m: \n"
            ],
            "text/html": [
              "<pre style=\"white-space:pre;overflow-x:auto;line-height:normal;font-family:Menlo,'DejaVu Sans Mono',consolas,'Courier New',monospace\">Как будет называться <span style=\"color: #008080; text-decoration-color: #008080; font-weight: bold\">2</span> армия? <span style=\"font-weight: bold\">(</span><span style=\"color: #00d7d7; text-decoration-color: #00d7d7\">JOHN</span>, <span style=\"color: #00005f; text-decoration-color: #00005f\">PAUL</span>, <span style=\"color: #ff00ff; text-decoration-color: #ff00ff\">GEORGE</span>, <span style=\"color: #af005f; text-decoration-color: #af005f\">RINGO</span><span style=\"font-weight: bold\">)</span>: \n",
              "</pre>\n"
            ]
          },
          "metadata": {}
        },
        {
          "name": "stdout",
          "output_type": "stream",
          "text": [
            "john\n"
          ]
        },
        {
          "output_type": "display_data",
          "data": {
            "text/plain": [
              "Как будет называться \u001b[1;36m3\u001b[0m армия? \u001b[1m(\u001b[0m\u001b[38;5;44mJOHN\u001b[0m, \u001b[38;5;17mPAUL\u001b[0m, \u001b[95mGEORGE\u001b[0m, \u001b[38;5;125mRINGO\u001b[0m\u001b[1m)\u001b[0m: \n"
            ],
            "text/html": [
              "<pre style=\"white-space:pre;overflow-x:auto;line-height:normal;font-family:Menlo,'DejaVu Sans Mono',consolas,'Courier New',monospace\">Как будет называться <span style=\"color: #008080; text-decoration-color: #008080; font-weight: bold\">3</span> армия? <span style=\"font-weight: bold\">(</span><span style=\"color: #00d7d7; text-decoration-color: #00d7d7\">JOHN</span>, <span style=\"color: #00005f; text-decoration-color: #00005f\">PAUL</span>, <span style=\"color: #ff00ff; text-decoration-color: #ff00ff\">GEORGE</span>, <span style=\"color: #af005f; text-decoration-color: #af005f\">RINGO</span><span style=\"font-weight: bold\">)</span>: \n",
              "</pre>\n"
            ]
          },
          "metadata": {}
        },
        {
          "name": "stdout",
          "output_type": "stream",
          "text": [
            "george\n"
          ]
        },
        {
          "output_type": "display_data",
          "data": {
            "text/plain": [
              "Как будет называться \u001b[1;36m4\u001b[0m армия? \u001b[1m(\u001b[0m\u001b[38;5;44mJOHN\u001b[0m, \u001b[38;5;17mPAUL\u001b[0m, \u001b[95mGEORGE\u001b[0m, \u001b[38;5;125mRINGO\u001b[0m\u001b[1m)\u001b[0m: \n"
            ],
            "text/html": [
              "<pre style=\"white-space:pre;overflow-x:auto;line-height:normal;font-family:Menlo,'DejaVu Sans Mono',consolas,'Courier New',monospace\">Как будет называться <span style=\"color: #008080; text-decoration-color: #008080; font-weight: bold\">4</span> армия? <span style=\"font-weight: bold\">(</span><span style=\"color: #00d7d7; text-decoration-color: #00d7d7\">JOHN</span>, <span style=\"color: #00005f; text-decoration-color: #00005f\">PAUL</span>, <span style=\"color: #ff00ff; text-decoration-color: #ff00ff\">GEORGE</span>, <span style=\"color: #af005f; text-decoration-color: #af005f\">RINGO</span><span style=\"font-weight: bold\">)</span>: \n",
              "</pre>\n"
            ]
          },
          "metadata": {}
        },
        {
          "name": "stdout",
          "output_type": "stream",
          "text": [
            "paul\n",
            "Выберите кол-во жуков в армии 1: 3\n",
            "Выберите максимальное кол-во здоровья у жуков в армии 1: 34\n",
            "Выберите максимальный урон, который будут иметь жуки в армии 1: 67\n",
            "Выберите кол-во жуков в армии 2: 2\n",
            "Выберите максимальное кол-во здоровья у жуков в армии 2: 32\n",
            "Выберите максимальный урон, который будут иметь жуки в армии 2: 13\n",
            "Выберите кол-во жуков в армии 3: 24\n",
            "Выберите максимальное кол-во здоровья у жуков в армии 3: 4\n",
            "Выберите максимальный урон, который будут иметь жуки в армии 3: 234\n",
            "Выберите кол-во жуков в армии 4: 23\n",
            "Выберите максимальное кол-во здоровья у жуков в армии 4: 1\n",
            "Выберите максимальный урон, который будут иметь жуки в армии 4: 2\n"
          ]
        },
        {
          "output_type": "display_data",
          "data": {
            "text/plain": [
              "\n",
              "Создание \u001b[1;36m4\u001b[0m армий завершено!\n"
            ],
            "text/html": [
              "<pre style=\"white-space:pre;overflow-x:auto;line-height:normal;font-family:Menlo,'DejaVu Sans Mono',consolas,'Courier New',monospace\">\n",
              "Создание <span style=\"color: #008080; text-decoration-color: #008080; font-weight: bold\">4</span> армий завершено!\n",
              "</pre>\n"
            ]
          },
          "metadata": {}
        },
        {
          "name": "stdout",
          "output_type": "stream",
          "text": [
            "\n",
            "Начнем? [Да/Нет]да\n"
          ]
        },
        {
          "output_type": "display_data",
          "data": {
            "text/plain": [
              "\u001b[38;5;44mДжон Леннон\u001b[0m атакует \u001b[38;5;44mДжон Леннон\u001b[0m в \u001b[3;33mстиле Джонни\u001b[0m нанося \u001b[1;36m3\u001b[0m \u001b[1;35mединиц\u001b[0m\u001b[1m(\u001b[0mы\u001b[1m)\u001b[0m урона\n"
            ],
            "text/html": [
              "<pre style=\"white-space:pre;overflow-x:auto;line-height:normal;font-family:Menlo,'DejaVu Sans Mono',consolas,'Courier New',monospace\"><span style=\"color: #00d7d7; text-decoration-color: #00d7d7\">Джон Леннон</span> атакует <span style=\"color: #00d7d7; text-decoration-color: #00d7d7\">Джон Леннон</span> в <span style=\"color: #808000; text-decoration-color: #808000; font-style: italic\">стиле Джонни</span> нанося <span style=\"color: #008080; text-decoration-color: #008080; font-weight: bold\">3</span> <span style=\"color: #800080; text-decoration-color: #800080; font-weight: bold\">единиц</span><span style=\"font-weight: bold\">(</span>ы<span style=\"font-weight: bold\">)</span> урона\n",
              "</pre>\n"
            ]
          },
          "metadata": {}
        },
        {
          "output_type": "display_data",
          "data": {
            "text/plain": [
              "\u001b[38;5;44mДжон Леннон\u001b[0m атакует \u001b[38;5;44mДжон Леннон\u001b[0m в \u001b[3;33mстиле Джонни\u001b[0m нанося \u001b[1;36m3\u001b[0m \u001b[1;35mединиц\u001b[0m\u001b[1m(\u001b[0mы\u001b[1m)\u001b[0m урона\n"
            ],
            "text/html": [
              "<pre style=\"white-space:pre;overflow-x:auto;line-height:normal;font-family:Menlo,'DejaVu Sans Mono',consolas,'Courier New',monospace\"><span style=\"color: #00d7d7; text-decoration-color: #00d7d7\">Джон Леннон</span> атакует <span style=\"color: #00d7d7; text-decoration-color: #00d7d7\">Джон Леннон</span> в <span style=\"color: #808000; text-decoration-color: #808000; font-style: italic\">стиле Джонни</span> нанося <span style=\"color: #008080; text-decoration-color: #008080; font-weight: bold\">3</span> <span style=\"color: #800080; text-decoration-color: #800080; font-weight: bold\">единиц</span><span style=\"font-weight: bold\">(</span>ы<span style=\"font-weight: bold\">)</span> урона\n",
              "</pre>\n"
            ]
          },
          "metadata": {}
        },
        {
          "output_type": "display_data",
          "data": {
            "text/plain": [
              "\n",
              "Армия \u001b[38;5;44mДжон Леннон\u001b[0m: \u001b[1;36m3\u001b[0m жуков осталось\n",
              "Армия \u001b[38;5;44mДжон Леннон\u001b[0m: \u001b[1;36m2\u001b[0m жуков осталось\n",
              " \n"
            ],
            "text/html": [
              "<pre style=\"white-space:pre;overflow-x:auto;line-height:normal;font-family:Menlo,'DejaVu Sans Mono',consolas,'Courier New',monospace\">\n",
              "Армия <span style=\"color: #00d7d7; text-decoration-color: #00d7d7\">Джон Леннон</span>: <span style=\"color: #008080; text-decoration-color: #008080; font-weight: bold\">3</span> жуков осталось\n",
              "Армия <span style=\"color: #00d7d7; text-decoration-color: #00d7d7\">Джон Леннон</span>: <span style=\"color: #008080; text-decoration-color: #008080; font-weight: bold\">2</span> жуков осталось\n",
              " \n",
              "</pre>\n"
            ]
          },
          "metadata": {}
        },
        {
          "output_type": "display_data",
          "data": {
            "text/plain": [
              "\u001b[38;5;44mДжон Леннон\u001b[0m атакует \u001b[38;5;44mДжон Леннон\u001b[0m в \u001b[3;33mстиле Джонни\u001b[0m нанося \u001b[1;36m2\u001b[0m \u001b[1;35mединиц\u001b[0m\u001b[1m(\u001b[0mы\u001b[1m)\u001b[0m урона\n"
            ],
            "text/html": [
              "<pre style=\"white-space:pre;overflow-x:auto;line-height:normal;font-family:Menlo,'DejaVu Sans Mono',consolas,'Courier New',monospace\"><span style=\"color: #00d7d7; text-decoration-color: #00d7d7\">Джон Леннон</span> атакует <span style=\"color: #00d7d7; text-decoration-color: #00d7d7\">Джон Леннон</span> в <span style=\"color: #808000; text-decoration-color: #808000; font-style: italic\">стиле Джонни</span> нанося <span style=\"color: #008080; text-decoration-color: #008080; font-weight: bold\">2</span> <span style=\"color: #800080; text-decoration-color: #800080; font-weight: bold\">единиц</span><span style=\"font-weight: bold\">(</span>ы<span style=\"font-weight: bold\">)</span> урона\n",
              "</pre>\n"
            ]
          },
          "metadata": {}
        },
        {
          "output_type": "display_data",
          "data": {
            "text/plain": [
              "\u001b[38;5;44mДжон Леннон\u001b[0m атакует \u001b[38;5;44mДжон Леннон\u001b[0m в \u001b[3;33mстиле Джонни\u001b[0m нанося \u001b[1;36m11\u001b[0m \u001b[1;35mединиц\u001b[0m\u001b[1m(\u001b[0mы\u001b[1m)\u001b[0m урона\n"
            ],
            "text/html": [
              "<pre style=\"white-space:pre;overflow-x:auto;line-height:normal;font-family:Menlo,'DejaVu Sans Mono',consolas,'Courier New',monospace\"><span style=\"color: #00d7d7; text-decoration-color: #00d7d7\">Джон Леннон</span> атакует <span style=\"color: #00d7d7; text-decoration-color: #00d7d7\">Джон Леннон</span> в <span style=\"color: #808000; text-decoration-color: #808000; font-style: italic\">стиле Джонни</span> нанося <span style=\"color: #008080; text-decoration-color: #008080; font-weight: bold\">11</span> <span style=\"color: #800080; text-decoration-color: #800080; font-weight: bold\">единиц</span><span style=\"font-weight: bold\">(</span>ы<span style=\"font-weight: bold\">)</span> урона\n",
              "</pre>\n"
            ]
          },
          "metadata": {}
        },
        {
          "output_type": "display_data",
          "data": {
            "text/plain": [
              "\u001b[38;5;44mДжон Леннон\u001b[0m \u001b[1;35mбыл\u001b[0m\u001b[1m(\u001b[0mа\u001b[1m)\u001b[0m \u001b[1;38;5;160mуничтожен\u001b[0m\u001b[1;38;5;160m(\u001b[0m\u001b[1;38;5;160mа\u001b[0m\u001b[1;38;5;160m)\u001b[0m!\n"
            ],
            "text/html": [
              "<pre style=\"white-space:pre;overflow-x:auto;line-height:normal;font-family:Menlo,'DejaVu Sans Mono',consolas,'Courier New',monospace\"><span style=\"color: #00d7d7; text-decoration-color: #00d7d7\">Джон Леннон</span> <span style=\"color: #800080; text-decoration-color: #800080; font-weight: bold\">был</span><span style=\"font-weight: bold\">(</span>а<span style=\"font-weight: bold\">)</span> <span style=\"color: #d70000; text-decoration-color: #d70000; font-weight: bold\">уничтожен(а)</span>!\n",
              "</pre>\n"
            ]
          },
          "metadata": {}
        },
        {
          "output_type": "display_data",
          "data": {
            "text/plain": [
              "\n",
              "Армия \u001b[38;5;44mДжон Леннон\u001b[0m: \u001b[1;36m2\u001b[0m жуков осталось\n",
              "Армия \u001b[38;5;44mДжон Леннон\u001b[0m: \u001b[1;36m2\u001b[0m жуков осталось\n",
              " \n"
            ],
            "text/html": [
              "<pre style=\"white-space:pre;overflow-x:auto;line-height:normal;font-family:Menlo,'DejaVu Sans Mono',consolas,'Courier New',monospace\">\n",
              "Армия <span style=\"color: #00d7d7; text-decoration-color: #00d7d7\">Джон Леннон</span>: <span style=\"color: #008080; text-decoration-color: #008080; font-weight: bold\">2</span> жуков осталось\n",
              "Армия <span style=\"color: #00d7d7; text-decoration-color: #00d7d7\">Джон Леннон</span>: <span style=\"color: #008080; text-decoration-color: #008080; font-weight: bold\">2</span> жуков осталось\n",
              " \n",
              "</pre>\n"
            ]
          },
          "metadata": {}
        },
        {
          "output_type": "display_data",
          "data": {
            "text/plain": [
              "\u001b[38;5;44mДжон Леннон\u001b[0m атакует \u001b[38;5;44mДжон Леннон\u001b[0m в \u001b[3;33mстиле Джонни\u001b[0m нанося \u001b[1;36m14\u001b[0m \u001b[1;35mединиц\u001b[0m\u001b[1m(\u001b[0mы\u001b[1m)\u001b[0m урона\n"
            ],
            "text/html": [
              "<pre style=\"white-space:pre;overflow-x:auto;line-height:normal;font-family:Menlo,'DejaVu Sans Mono',consolas,'Courier New',monospace\"><span style=\"color: #00d7d7; text-decoration-color: #00d7d7\">Джон Леннон</span> атакует <span style=\"color: #00d7d7; text-decoration-color: #00d7d7\">Джон Леннон</span> в <span style=\"color: #808000; text-decoration-color: #808000; font-style: italic\">стиле Джонни</span> нанося <span style=\"color: #008080; text-decoration-color: #008080; font-weight: bold\">14</span> <span style=\"color: #800080; text-decoration-color: #800080; font-weight: bold\">единиц</span><span style=\"font-weight: bold\">(</span>ы<span style=\"font-weight: bold\">)</span> урона\n",
              "</pre>\n"
            ]
          },
          "metadata": {}
        },
        {
          "output_type": "display_data",
          "data": {
            "text/plain": [
              "\u001b[38;5;44mДжон Леннон\u001b[0m атакует \u001b[38;5;44mДжон Леннон\u001b[0m в \u001b[3;33mстиле Джонни\u001b[0m нанося \u001b[1;36m1\u001b[0m \u001b[1;35mединиц\u001b[0m\u001b[1m(\u001b[0mы\u001b[1m)\u001b[0m урона\n"
            ],
            "text/html": [
              "<pre style=\"white-space:pre;overflow-x:auto;line-height:normal;font-family:Menlo,'DejaVu Sans Mono',consolas,'Courier New',monospace\"><span style=\"color: #00d7d7; text-decoration-color: #00d7d7\">Джон Леннон</span> атакует <span style=\"color: #00d7d7; text-decoration-color: #00d7d7\">Джон Леннон</span> в <span style=\"color: #808000; text-decoration-color: #808000; font-style: italic\">стиле Джонни</span> нанося <span style=\"color: #008080; text-decoration-color: #008080; font-weight: bold\">1</span> <span style=\"color: #800080; text-decoration-color: #800080; font-weight: bold\">единиц</span><span style=\"font-weight: bold\">(</span>ы<span style=\"font-weight: bold\">)</span> урона\n",
              "</pre>\n"
            ]
          },
          "metadata": {}
        },
        {
          "output_type": "display_data",
          "data": {
            "text/plain": [
              "\n",
              "Армия \u001b[38;5;44mДжон Леннон\u001b[0m: \u001b[1;36m2\u001b[0m жуков осталось\n",
              "Армия \u001b[38;5;44mДжон Леннон\u001b[0m: \u001b[1;36m2\u001b[0m жуков осталось\n",
              " \n"
            ],
            "text/html": [
              "<pre style=\"white-space:pre;overflow-x:auto;line-height:normal;font-family:Menlo,'DejaVu Sans Mono',consolas,'Courier New',monospace\">\n",
              "Армия <span style=\"color: #00d7d7; text-decoration-color: #00d7d7\">Джон Леннон</span>: <span style=\"color: #008080; text-decoration-color: #008080; font-weight: bold\">2</span> жуков осталось\n",
              "Армия <span style=\"color: #00d7d7; text-decoration-color: #00d7d7\">Джон Леннон</span>: <span style=\"color: #008080; text-decoration-color: #008080; font-weight: bold\">2</span> жуков осталось\n",
              " \n",
              "</pre>\n"
            ]
          },
          "metadata": {}
        },
        {
          "output_type": "display_data",
          "data": {
            "text/plain": [
              "\u001b[38;5;44mДжон Леннон\u001b[0m атакует \u001b[38;5;44mДжон Леннон\u001b[0m в \u001b[3;33mстиле Джонни\u001b[0m нанося \u001b[1;36m41\u001b[0m \u001b[1;35mединиц\u001b[0m\u001b[1m(\u001b[0mы\u001b[1m)\u001b[0m урона\n"
            ],
            "text/html": [
              "<pre style=\"white-space:pre;overflow-x:auto;line-height:normal;font-family:Menlo,'DejaVu Sans Mono',consolas,'Courier New',monospace\"><span style=\"color: #00d7d7; text-decoration-color: #00d7d7\">Джон Леннон</span> атакует <span style=\"color: #00d7d7; text-decoration-color: #00d7d7\">Джон Леннон</span> в <span style=\"color: #808000; text-decoration-color: #808000; font-style: italic\">стиле Джонни</span> нанося <span style=\"color: #008080; text-decoration-color: #008080; font-weight: bold\">41</span> <span style=\"color: #800080; text-decoration-color: #800080; font-weight: bold\">единиц</span><span style=\"font-weight: bold\">(</span>ы<span style=\"font-weight: bold\">)</span> урона\n",
              "</pre>\n"
            ]
          },
          "metadata": {}
        },
        {
          "output_type": "display_data",
          "data": {
            "text/plain": [
              "\u001b[38;5;44mДжон Леннон\u001b[0m \u001b[1;35mбыл\u001b[0m\u001b[1m(\u001b[0mа\u001b[1m)\u001b[0m \u001b[1;38;5;160mуничтожен\u001b[0m\u001b[1;38;5;160m(\u001b[0m\u001b[1;38;5;160mа\u001b[0m\u001b[1;38;5;160m)\u001b[0m!\n"
            ],
            "text/html": [
              "<pre style=\"white-space:pre;overflow-x:auto;line-height:normal;font-family:Menlo,'DejaVu Sans Mono',consolas,'Courier New',monospace\"><span style=\"color: #00d7d7; text-decoration-color: #00d7d7\">Джон Леннон</span> <span style=\"color: #800080; text-decoration-color: #800080; font-weight: bold\">был</span><span style=\"font-weight: bold\">(</span>а<span style=\"font-weight: bold\">)</span> <span style=\"color: #d70000; text-decoration-color: #d70000; font-weight: bold\">уничтожен(а)</span>!\n",
              "</pre>\n"
            ]
          },
          "metadata": {}
        },
        {
          "output_type": "display_data",
          "data": {
            "text/plain": [
              "\u001b[38;5;44mДжон Леннон\u001b[0m атакует \u001b[38;5;44mДжон Леннон\u001b[0m в \u001b[3;33mстиле Джонни\u001b[0m нанося \u001b[1;36m10\u001b[0m \u001b[1;35mединиц\u001b[0m\u001b[1m(\u001b[0mы\u001b[1m)\u001b[0m урона\n"
            ],
            "text/html": [
              "<pre style=\"white-space:pre;overflow-x:auto;line-height:normal;font-family:Menlo,'DejaVu Sans Mono',consolas,'Courier New',monospace\"><span style=\"color: #00d7d7; text-decoration-color: #00d7d7\">Джон Леннон</span> атакует <span style=\"color: #00d7d7; text-decoration-color: #00d7d7\">Джон Леннон</span> в <span style=\"color: #808000; text-decoration-color: #808000; font-style: italic\">стиле Джонни</span> нанося <span style=\"color: #008080; text-decoration-color: #008080; font-weight: bold\">10</span> <span style=\"color: #800080; text-decoration-color: #800080; font-weight: bold\">единиц</span><span style=\"font-weight: bold\">(</span>ы<span style=\"font-weight: bold\">)</span> урона\n",
              "</pre>\n"
            ]
          },
          "metadata": {}
        },
        {
          "output_type": "display_data",
          "data": {
            "text/plain": [
              "\n",
              "Армия \u001b[38;5;44mДжон Леннон\u001b[0m: \u001b[1;36m2\u001b[0m жуков осталось\n",
              "Армия \u001b[38;5;44mДжон Леннон\u001b[0m: \u001b[1;36m1\u001b[0m жуков осталось\n",
              " \n"
            ],
            "text/html": [
              "<pre style=\"white-space:pre;overflow-x:auto;line-height:normal;font-family:Menlo,'DejaVu Sans Mono',consolas,'Courier New',monospace\">\n",
              "Армия <span style=\"color: #00d7d7; text-decoration-color: #00d7d7\">Джон Леннон</span>: <span style=\"color: #008080; text-decoration-color: #008080; font-weight: bold\">2</span> жуков осталось\n",
              "Армия <span style=\"color: #00d7d7; text-decoration-color: #00d7d7\">Джон Леннон</span>: <span style=\"color: #008080; text-decoration-color: #008080; font-weight: bold\">1</span> жуков осталось\n",
              " \n",
              "</pre>\n"
            ]
          },
          "metadata": {}
        },
        {
          "output_type": "display_data",
          "data": {
            "text/plain": [
              "\u001b[38;5;44mДжон Леннон\u001b[0m атакует \u001b[38;5;44mДжон Леннон\u001b[0m в \u001b[3;33mстиле Джонни\u001b[0m нанося \u001b[1;36m25\u001b[0m \u001b[1;35mединиц\u001b[0m\u001b[1m(\u001b[0mы\u001b[1m)\u001b[0m урона\n"
            ],
            "text/html": [
              "<pre style=\"white-space:pre;overflow-x:auto;line-height:normal;font-family:Menlo,'DejaVu Sans Mono',consolas,'Courier New',monospace\"><span style=\"color: #00d7d7; text-decoration-color: #00d7d7\">Джон Леннон</span> атакует <span style=\"color: #00d7d7; text-decoration-color: #00d7d7\">Джон Леннон</span> в <span style=\"color: #808000; text-decoration-color: #808000; font-style: italic\">стиле Джонни</span> нанося <span style=\"color: #008080; text-decoration-color: #008080; font-weight: bold\">25</span> <span style=\"color: #800080; text-decoration-color: #800080; font-weight: bold\">единиц</span><span style=\"font-weight: bold\">(</span>ы<span style=\"font-weight: bold\">)</span> урона\n",
              "</pre>\n"
            ]
          },
          "metadata": {}
        },
        {
          "output_type": "display_data",
          "data": {
            "text/plain": [
              "\u001b[38;5;44mДжон Леннон\u001b[0m \u001b[1;35mбыл\u001b[0m\u001b[1m(\u001b[0mа\u001b[1m)\u001b[0m \u001b[1;38;5;160mуничтожен\u001b[0m\u001b[1;38;5;160m(\u001b[0m\u001b[1;38;5;160mа\u001b[0m\u001b[1;38;5;160m)\u001b[0m!\n"
            ],
            "text/html": [
              "<pre style=\"white-space:pre;overflow-x:auto;line-height:normal;font-family:Menlo,'DejaVu Sans Mono',consolas,'Courier New',monospace\"><span style=\"color: #00d7d7; text-decoration-color: #00d7d7\">Джон Леннон</span> <span style=\"color: #800080; text-decoration-color: #800080; font-weight: bold\">был</span><span style=\"font-weight: bold\">(</span>а<span style=\"font-weight: bold\">)</span> <span style=\"color: #d70000; text-decoration-color: #d70000; font-weight: bold\">уничтожен(а)</span>!\n",
              "</pre>\n"
            ]
          },
          "metadata": {}
        },
        {
          "output_type": "display_data",
          "data": {
            "text/plain": [
              "\n",
              "Армия \u001b[38;5;44mДжон Леннон\u001b[0m: \u001b[1;36m2\u001b[0m жуков осталось\n",
              "Армия \u001b[38;5;44mДжон Леннон\u001b[0m: \u001b[1;36m0\u001b[0m жуков осталось\n",
              " \n"
            ],
            "text/html": [
              "<pre style=\"white-space:pre;overflow-x:auto;line-height:normal;font-family:Menlo,'DejaVu Sans Mono',consolas,'Courier New',monospace\">\n",
              "Армия <span style=\"color: #00d7d7; text-decoration-color: #00d7d7\">Джон Леннон</span>: <span style=\"color: #008080; text-decoration-color: #008080; font-weight: bold\">2</span> жуков осталось\n",
              "Армия <span style=\"color: #00d7d7; text-decoration-color: #00d7d7\">Джон Леннон</span>: <span style=\"color: #008080; text-decoration-color: #008080; font-weight: bold\">0</span> жуков осталось\n",
              " \n",
              "</pre>\n"
            ]
          },
          "metadata": {}
        },
        {
          "output_type": "display_data",
          "data": {
            "text/plain": [
              " \n",
              "Армия \u001b[38;5;44mДжон Леннон\u001b[0m была \u001b[1;38;5;160mуничтожена\u001b[0m!\n",
              " \n"
            ],
            "text/html": [
              "<pre style=\"white-space:pre;overflow-x:auto;line-height:normal;font-family:Menlo,'DejaVu Sans Mono',consolas,'Courier New',monospace\"> \n",
              "Армия <span style=\"color: #00d7d7; text-decoration-color: #00d7d7\">Джон Леннон</span> была <span style=\"color: #d70000; text-decoration-color: #d70000; font-weight: bold\">уничтожена</span>!\n",
              " \n",
              "</pre>\n"
            ]
          },
          "metadata": {}
        },
        {
          "output_type": "display_data",
          "data": {
            "text/plain": [
              "\u001b[38;5;44mДжон Леннон\u001b[0m атакует \u001b[95mДжордж Харрисон\u001b[0m в \u001b[3;33mстиле Джонни\u001b[0m нанося \u001b[1;36m23\u001b[0m \u001b[1;35mединиц\u001b[0m\u001b[1m(\u001b[0mы\u001b[1m)\u001b[0m урона\n"
            ],
            "text/html": [
              "<pre style=\"white-space:pre;overflow-x:auto;line-height:normal;font-family:Menlo,'DejaVu Sans Mono',consolas,'Courier New',monospace\"><span style=\"color: #00d7d7; text-decoration-color: #00d7d7\">Джон Леннон</span> атакует <span style=\"color: #ff00ff; text-decoration-color: #ff00ff\">Джордж Харрисон</span> в <span style=\"color: #808000; text-decoration-color: #808000; font-style: italic\">стиле Джонни</span> нанося <span style=\"color: #008080; text-decoration-color: #008080; font-weight: bold\">23</span> <span style=\"color: #800080; text-decoration-color: #800080; font-weight: bold\">единиц</span><span style=\"font-weight: bold\">(</span>ы<span style=\"font-weight: bold\">)</span> урона\n",
              "</pre>\n"
            ]
          },
          "metadata": {}
        },
        {
          "output_type": "display_data",
          "data": {
            "text/plain": [
              "\u001b[95mДжордж Харрисон\u001b[0m \u001b[1;35mбыл\u001b[0m\u001b[1m(\u001b[0mа\u001b[1m)\u001b[0m \u001b[1;38;5;160mуничтожен\u001b[0m\u001b[1;38;5;160m(\u001b[0m\u001b[1;38;5;160mа\u001b[0m\u001b[1;38;5;160m)\u001b[0m!\n"
            ],
            "text/html": [
              "<pre style=\"white-space:pre;overflow-x:auto;line-height:normal;font-family:Menlo,'DejaVu Sans Mono',consolas,'Courier New',monospace\"><span style=\"color: #ff00ff; text-decoration-color: #ff00ff\">Джордж Харрисон</span> <span style=\"color: #800080; text-decoration-color: #800080; font-weight: bold\">был</span><span style=\"font-weight: bold\">(</span>а<span style=\"font-weight: bold\">)</span> <span style=\"color: #d70000; text-decoration-color: #d70000; font-weight: bold\">уничтожен(а)</span>!\n",
              "</pre>\n"
            ]
          },
          "metadata": {}
        },
        {
          "output_type": "display_data",
          "data": {
            "text/plain": [
              "\u001b[95mДжордж Харрисон\u001b[0m атакует \u001b[38;5;44mДжон Леннон\u001b[0m в \u001b[3;38;5;136mстиле Харрисона\u001b[0m нанося \u001b[1;36m233\u001b[0m \u001b[1;35mединиц\u001b[0m\u001b[1m(\u001b[0mы\u001b[1m)\u001b[0m урона\n"
            ],
            "text/html": [
              "<pre style=\"white-space:pre;overflow-x:auto;line-height:normal;font-family:Menlo,'DejaVu Sans Mono',consolas,'Courier New',monospace\"><span style=\"color: #ff00ff; text-decoration-color: #ff00ff\">Джордж Харрисон</span> атакует <span style=\"color: #00d7d7; text-decoration-color: #00d7d7\">Джон Леннон</span> в <span style=\"color: #af8700; text-decoration-color: #af8700; font-style: italic\">стиле Харрисона</span> нанося <span style=\"color: #008080; text-decoration-color: #008080; font-weight: bold\">233</span> <span style=\"color: #800080; text-decoration-color: #800080; font-weight: bold\">единиц</span><span style=\"font-weight: bold\">(</span>ы<span style=\"font-weight: bold\">)</span> урона\n",
              "</pre>\n"
            ]
          },
          "metadata": {}
        },
        {
          "output_type": "display_data",
          "data": {
            "text/plain": [
              "\u001b[38;5;44mДжон Леннон\u001b[0m \u001b[1;35mбыл\u001b[0m\u001b[1m(\u001b[0mа\u001b[1m)\u001b[0m \u001b[1;38;5;160mуничтожен\u001b[0m\u001b[1;38;5;160m(\u001b[0m\u001b[1;38;5;160mа\u001b[0m\u001b[1;38;5;160m)\u001b[0m!\n"
            ],
            "text/html": [
              "<pre style=\"white-space:pre;overflow-x:auto;line-height:normal;font-family:Menlo,'DejaVu Sans Mono',consolas,'Courier New',monospace\"><span style=\"color: #00d7d7; text-decoration-color: #00d7d7\">Джон Леннон</span> <span style=\"color: #800080; text-decoration-color: #800080; font-weight: bold\">был</span><span style=\"font-weight: bold\">(</span>а<span style=\"font-weight: bold\">)</span> <span style=\"color: #d70000; text-decoration-color: #d70000; font-weight: bold\">уничтожен(а)</span>!\n",
              "</pre>\n"
            ]
          },
          "metadata": {}
        },
        {
          "output_type": "display_data",
          "data": {
            "text/plain": [
              "\n",
              "Армия \u001b[38;5;44mДжон Леннон\u001b[0m: \u001b[1;36m1\u001b[0m жуков осталось\n",
              "Армия \u001b[95mДжордж Харрисон\u001b[0m: \u001b[1;36m23\u001b[0m жуков осталось\n",
              " \n"
            ],
            "text/html": [
              "<pre style=\"white-space:pre;overflow-x:auto;line-height:normal;font-family:Menlo,'DejaVu Sans Mono',consolas,'Courier New',monospace\">\n",
              "Армия <span style=\"color: #00d7d7; text-decoration-color: #00d7d7\">Джон Леннон</span>: <span style=\"color: #008080; text-decoration-color: #008080; font-weight: bold\">1</span> жуков осталось\n",
              "Армия <span style=\"color: #ff00ff; text-decoration-color: #ff00ff\">Джордж Харрисон</span>: <span style=\"color: #008080; text-decoration-color: #008080; font-weight: bold\">23</span> жуков осталось\n",
              " \n",
              "</pre>\n"
            ]
          },
          "metadata": {}
        },
        {
          "output_type": "display_data",
          "data": {
            "text/plain": [
              "\u001b[38;5;44mДжон Леннон\u001b[0m атакует \u001b[95mДжордж Харрисон\u001b[0m в \u001b[3;33mстиле Джонни\u001b[0m нанося \u001b[1;36m21\u001b[0m \u001b[1;35mединиц\u001b[0m\u001b[1m(\u001b[0mы\u001b[1m)\u001b[0m урона\n"
            ],
            "text/html": [
              "<pre style=\"white-space:pre;overflow-x:auto;line-height:normal;font-family:Menlo,'DejaVu Sans Mono',consolas,'Courier New',monospace\"><span style=\"color: #00d7d7; text-decoration-color: #00d7d7\">Джон Леннон</span> атакует <span style=\"color: #ff00ff; text-decoration-color: #ff00ff\">Джордж Харрисон</span> в <span style=\"color: #808000; text-decoration-color: #808000; font-style: italic\">стиле Джонни</span> нанося <span style=\"color: #008080; text-decoration-color: #008080; font-weight: bold\">21</span> <span style=\"color: #800080; text-decoration-color: #800080; font-weight: bold\">единиц</span><span style=\"font-weight: bold\">(</span>ы<span style=\"font-weight: bold\">)</span> урона\n",
              "</pre>\n"
            ]
          },
          "metadata": {}
        },
        {
          "output_type": "display_data",
          "data": {
            "text/plain": [
              "\u001b[95mДжордж Харрисон\u001b[0m \u001b[1;35mбыл\u001b[0m\u001b[1m(\u001b[0mа\u001b[1m)\u001b[0m \u001b[1;38;5;160mуничтожен\u001b[0m\u001b[1;38;5;160m(\u001b[0m\u001b[1;38;5;160mа\u001b[0m\u001b[1;38;5;160m)\u001b[0m!\n"
            ],
            "text/html": [
              "<pre style=\"white-space:pre;overflow-x:auto;line-height:normal;font-family:Menlo,'DejaVu Sans Mono',consolas,'Courier New',monospace\"><span style=\"color: #ff00ff; text-decoration-color: #ff00ff\">Джордж Харрисон</span> <span style=\"color: #800080; text-decoration-color: #800080; font-weight: bold\">был</span><span style=\"font-weight: bold\">(</span>а<span style=\"font-weight: bold\">)</span> <span style=\"color: #d70000; text-decoration-color: #d70000; font-weight: bold\">уничтожен(а)</span>!\n",
              "</pre>\n"
            ]
          },
          "metadata": {}
        },
        {
          "output_type": "display_data",
          "data": {
            "text/plain": [
              "\u001b[95mДжордж Харрисон\u001b[0m атакует \u001b[38;5;44mДжон Леннон\u001b[0m в \u001b[3;38;5;136mстиле Харрисона\u001b[0m нанося \u001b[1;36m146\u001b[0m \u001b[1;35mединиц\u001b[0m\u001b[1m(\u001b[0mы\u001b[1m)\u001b[0m урона\n"
            ],
            "text/html": [
              "<pre style=\"white-space:pre;overflow-x:auto;line-height:normal;font-family:Menlo,'DejaVu Sans Mono',consolas,'Courier New',monospace\"><span style=\"color: #ff00ff; text-decoration-color: #ff00ff\">Джордж Харрисон</span> атакует <span style=\"color: #00d7d7; text-decoration-color: #00d7d7\">Джон Леннон</span> в <span style=\"color: #af8700; text-decoration-color: #af8700; font-style: italic\">стиле Харрисона</span> нанося <span style=\"color: #008080; text-decoration-color: #008080; font-weight: bold\">146</span> <span style=\"color: #800080; text-decoration-color: #800080; font-weight: bold\">единиц</span><span style=\"font-weight: bold\">(</span>ы<span style=\"font-weight: bold\">)</span> урона\n",
              "</pre>\n"
            ]
          },
          "metadata": {}
        },
        {
          "output_type": "display_data",
          "data": {
            "text/plain": [
              "\u001b[38;5;44mДжон Леннон\u001b[0m \u001b[1;35mбыл\u001b[0m\u001b[1m(\u001b[0mа\u001b[1m)\u001b[0m \u001b[1;38;5;160mуничтожен\u001b[0m\u001b[1;38;5;160m(\u001b[0m\u001b[1;38;5;160mа\u001b[0m\u001b[1;38;5;160m)\u001b[0m!\n"
            ],
            "text/html": [
              "<pre style=\"white-space:pre;overflow-x:auto;line-height:normal;font-family:Menlo,'DejaVu Sans Mono',consolas,'Courier New',monospace\"><span style=\"color: #00d7d7; text-decoration-color: #00d7d7\">Джон Леннон</span> <span style=\"color: #800080; text-decoration-color: #800080; font-weight: bold\">был</span><span style=\"font-weight: bold\">(</span>а<span style=\"font-weight: bold\">)</span> <span style=\"color: #d70000; text-decoration-color: #d70000; font-weight: bold\">уничтожен(а)</span>!\n",
              "</pre>\n"
            ]
          },
          "metadata": {}
        },
        {
          "output_type": "display_data",
          "data": {
            "text/plain": [
              "\n",
              "Армия \u001b[38;5;44mДжон Леннон\u001b[0m: \u001b[1;36m0\u001b[0m жуков осталось\n",
              "Армия \u001b[95mДжордж Харрисон\u001b[0m: \u001b[1;36m22\u001b[0m жуков осталось\n",
              " \n"
            ],
            "text/html": [
              "<pre style=\"white-space:pre;overflow-x:auto;line-height:normal;font-family:Menlo,'DejaVu Sans Mono',consolas,'Courier New',monospace\">\n",
              "Армия <span style=\"color: #00d7d7; text-decoration-color: #00d7d7\">Джон Леннон</span>: <span style=\"color: #008080; text-decoration-color: #008080; font-weight: bold\">0</span> жуков осталось\n",
              "Армия <span style=\"color: #ff00ff; text-decoration-color: #ff00ff\">Джордж Харрисон</span>: <span style=\"color: #008080; text-decoration-color: #008080; font-weight: bold\">22</span> жуков осталось\n",
              " \n",
              "</pre>\n"
            ]
          },
          "metadata": {}
        },
        {
          "output_type": "display_data",
          "data": {
            "text/plain": [
              " \n",
              "Армия \u001b[38;5;44mДжон Леннон\u001b[0m была \u001b[1;38;5;160mуничтожена\u001b[0m!\n",
              " \n"
            ],
            "text/html": [
              "<pre style=\"white-space:pre;overflow-x:auto;line-height:normal;font-family:Menlo,'DejaVu Sans Mono',consolas,'Courier New',monospace\"> \n",
              "Армия <span style=\"color: #00d7d7; text-decoration-color: #00d7d7\">Джон Леннон</span> была <span style=\"color: #d70000; text-decoration-color: #d70000; font-weight: bold\">уничтожена</span>!\n",
              " \n",
              "</pre>\n"
            ]
          },
          "metadata": {}
        },
        {
          "output_type": "display_data",
          "data": {
            "text/plain": [
              "\u001b[95mДжордж Харрисон\u001b[0m атакует \u001b[38;5;17mПол Маккартни\u001b[0m в \u001b[3;38;5;136mстиле Харрисона\u001b[0m нанося \u001b[1;36m109\u001b[0m \u001b[1;35mединиц\u001b[0m\u001b[1m(\u001b[0mы\u001b[1m)\u001b[0m урона\n"
            ],
            "text/html": [
              "<pre style=\"white-space:pre;overflow-x:auto;line-height:normal;font-family:Menlo,'DejaVu Sans Mono',consolas,'Courier New',monospace\"><span style=\"color: #ff00ff; text-decoration-color: #ff00ff\">Джордж Харрисон</span> атакует <span style=\"color: #00005f; text-decoration-color: #00005f\">Пол Маккартни</span> в <span style=\"color: #af8700; text-decoration-color: #af8700; font-style: italic\">стиле Харрисона</span> нанося <span style=\"color: #008080; text-decoration-color: #008080; font-weight: bold\">109</span> <span style=\"color: #800080; text-decoration-color: #800080; font-weight: bold\">единиц</span><span style=\"font-weight: bold\">(</span>ы<span style=\"font-weight: bold\">)</span> урона\n",
              "</pre>\n"
            ]
          },
          "metadata": {}
        },
        {
          "output_type": "display_data",
          "data": {
            "text/plain": [
              "\u001b[38;5;17mПол Маккартни\u001b[0m \u001b[1;35mбыл\u001b[0m\u001b[1m(\u001b[0mа\u001b[1m)\u001b[0m \u001b[1;38;5;160mуничтожен\u001b[0m\u001b[1;38;5;160m(\u001b[0m\u001b[1;38;5;160mа\u001b[0m\u001b[1;38;5;160m)\u001b[0m!\n"
            ],
            "text/html": [
              "<pre style=\"white-space:pre;overflow-x:auto;line-height:normal;font-family:Menlo,'DejaVu Sans Mono',consolas,'Courier New',monospace\"><span style=\"color: #00005f; text-decoration-color: #00005f\">Пол Маккартни</span> <span style=\"color: #800080; text-decoration-color: #800080; font-weight: bold\">был</span><span style=\"font-weight: bold\">(</span>а<span style=\"font-weight: bold\">)</span> <span style=\"color: #d70000; text-decoration-color: #d70000; font-weight: bold\">уничтожен(а)</span>!\n",
              "</pre>\n"
            ]
          },
          "metadata": {}
        },
        {
          "output_type": "display_data",
          "data": {
            "text/plain": [
              "\u001b[38;5;17mПол Маккартни\u001b[0m атакует \u001b[95mДжордж Харрисон\u001b[0m в \u001b[3;32mстиле Маккартни\u001b[0m нанося \u001b[1;36m1\u001b[0m \u001b[1;35mединиц\u001b[0m\u001b[1m(\u001b[0mы\u001b[1m)\u001b[0m урона\n"
            ],
            "text/html": [
              "<pre style=\"white-space:pre;overflow-x:auto;line-height:normal;font-family:Menlo,'DejaVu Sans Mono',consolas,'Courier New',monospace\"><span style=\"color: #00005f; text-decoration-color: #00005f\">Пол Маккартни</span> атакует <span style=\"color: #ff00ff; text-decoration-color: #ff00ff\">Джордж Харрисон</span> в <span style=\"color: #008000; text-decoration-color: #008000; font-style: italic\">стиле Маккартни</span> нанося <span style=\"color: #008080; text-decoration-color: #008080; font-weight: bold\">1</span> <span style=\"color: #800080; text-decoration-color: #800080; font-weight: bold\">единиц</span><span style=\"font-weight: bold\">(</span>ы<span style=\"font-weight: bold\">)</span> урона\n",
              "</pre>\n"
            ]
          },
          "metadata": {}
        },
        {
          "output_type": "display_data",
          "data": {
            "text/plain": [
              "\n",
              "Армия \u001b[95mДжордж Харрисон\u001b[0m: \u001b[1;36m22\u001b[0m жуков осталось\n",
              "Армия \u001b[38;5;17mПол Маккартни\u001b[0m: \u001b[1;36m22\u001b[0m жуков осталось\n",
              " \n"
            ],
            "text/html": [
              "<pre style=\"white-space:pre;overflow-x:auto;line-height:normal;font-family:Menlo,'DejaVu Sans Mono',consolas,'Courier New',monospace\">\n",
              "Армия <span style=\"color: #ff00ff; text-decoration-color: #ff00ff\">Джордж Харрисон</span>: <span style=\"color: #008080; text-decoration-color: #008080; font-weight: bold\">22</span> жуков осталось\n",
              "Армия <span style=\"color: #00005f; text-decoration-color: #00005f\">Пол Маккартни</span>: <span style=\"color: #008080; text-decoration-color: #008080; font-weight: bold\">22</span> жуков осталось\n",
              " \n",
              "</pre>\n"
            ]
          },
          "metadata": {}
        },
        {
          "output_type": "display_data",
          "data": {
            "text/plain": [
              "\u001b[95mДжордж Харрисон\u001b[0m атакует \u001b[38;5;17mПол Маккартни\u001b[0m в \u001b[3;38;5;136mстиле Харрисона\u001b[0m нанося \u001b[1;36m158\u001b[0m \u001b[1;35mединиц\u001b[0m\u001b[1m(\u001b[0mы\u001b[1m)\u001b[0m урона\n"
            ],
            "text/html": [
              "<pre style=\"white-space:pre;overflow-x:auto;line-height:normal;font-family:Menlo,'DejaVu Sans Mono',consolas,'Courier New',monospace\"><span style=\"color: #ff00ff; text-decoration-color: #ff00ff\">Джордж Харрисон</span> атакует <span style=\"color: #00005f; text-decoration-color: #00005f\">Пол Маккартни</span> в <span style=\"color: #af8700; text-decoration-color: #af8700; font-style: italic\">стиле Харрисона</span> нанося <span style=\"color: #008080; text-decoration-color: #008080; font-weight: bold\">158</span> <span style=\"color: #800080; text-decoration-color: #800080; font-weight: bold\">единиц</span><span style=\"font-weight: bold\">(</span>ы<span style=\"font-weight: bold\">)</span> урона\n",
              "</pre>\n"
            ]
          },
          "metadata": {}
        },
        {
          "output_type": "display_data",
          "data": {
            "text/plain": [
              "\u001b[38;5;17mПол Маккартни\u001b[0m \u001b[1;35mбыл\u001b[0m\u001b[1m(\u001b[0mа\u001b[1m)\u001b[0m \u001b[1;38;5;160mуничтожен\u001b[0m\u001b[1;38;5;160m(\u001b[0m\u001b[1;38;5;160mа\u001b[0m\u001b[1;38;5;160m)\u001b[0m!\n"
            ],
            "text/html": [
              "<pre style=\"white-space:pre;overflow-x:auto;line-height:normal;font-family:Menlo,'DejaVu Sans Mono',consolas,'Courier New',monospace\"><span style=\"color: #00005f; text-decoration-color: #00005f\">Пол Маккартни</span> <span style=\"color: #800080; text-decoration-color: #800080; font-weight: bold\">был</span><span style=\"font-weight: bold\">(</span>а<span style=\"font-weight: bold\">)</span> <span style=\"color: #d70000; text-decoration-color: #d70000; font-weight: bold\">уничтожен(а)</span>!\n",
              "</pre>\n"
            ]
          },
          "metadata": {}
        },
        {
          "output_type": "display_data",
          "data": {
            "text/plain": [
              "\u001b[38;5;17mПол Маккартни\u001b[0m атакует \u001b[95mДжордж Харрисон\u001b[0m в \u001b[3;32mстиле Маккартни\u001b[0m нанося \u001b[1;36m2\u001b[0m \u001b[1;35mединиц\u001b[0m\u001b[1m(\u001b[0mы\u001b[1m)\u001b[0m урона\n"
            ],
            "text/html": [
              "<pre style=\"white-space:pre;overflow-x:auto;line-height:normal;font-family:Menlo,'DejaVu Sans Mono',consolas,'Courier New',monospace\"><span style=\"color: #00005f; text-decoration-color: #00005f\">Пол Маккартни</span> атакует <span style=\"color: #ff00ff; text-decoration-color: #ff00ff\">Джордж Харрисон</span> в <span style=\"color: #008000; text-decoration-color: #008000; font-style: italic\">стиле Маккартни</span> нанося <span style=\"color: #008080; text-decoration-color: #008080; font-weight: bold\">2</span> <span style=\"color: #800080; text-decoration-color: #800080; font-weight: bold\">единиц</span><span style=\"font-weight: bold\">(</span>ы<span style=\"font-weight: bold\">)</span> урона\n",
              "</pre>\n"
            ]
          },
          "metadata": {}
        },
        {
          "output_type": "display_data",
          "data": {
            "text/plain": [
              "\n",
              "Армия \u001b[95mДжордж Харрисон\u001b[0m: \u001b[1;36m22\u001b[0m жуков осталось\n",
              "Армия \u001b[38;5;17mПол Маккартни\u001b[0m: \u001b[1;36m21\u001b[0m жуков осталось\n",
              " \n"
            ],
            "text/html": [
              "<pre style=\"white-space:pre;overflow-x:auto;line-height:normal;font-family:Menlo,'DejaVu Sans Mono',consolas,'Courier New',monospace\">\n",
              "Армия <span style=\"color: #ff00ff; text-decoration-color: #ff00ff\">Джордж Харрисон</span>: <span style=\"color: #008080; text-decoration-color: #008080; font-weight: bold\">22</span> жуков осталось\n",
              "Армия <span style=\"color: #00005f; text-decoration-color: #00005f\">Пол Маккартни</span>: <span style=\"color: #008080; text-decoration-color: #008080; font-weight: bold\">21</span> жуков осталось\n",
              " \n",
              "</pre>\n"
            ]
          },
          "metadata": {}
        },
        {
          "output_type": "display_data",
          "data": {
            "text/plain": [
              "\u001b[95mДжордж Харрисон\u001b[0m атакует \u001b[38;5;17mПол Маккартни\u001b[0m в \u001b[3;38;5;136mстиле Харрисона\u001b[0m нанося \u001b[1;36m8\u001b[0m \u001b[1;35mединиц\u001b[0m\u001b[1m(\u001b[0mы\u001b[1m)\u001b[0m урона\n"
            ],
            "text/html": [
              "<pre style=\"white-space:pre;overflow-x:auto;line-height:normal;font-family:Menlo,'DejaVu Sans Mono',consolas,'Courier New',monospace\"><span style=\"color: #ff00ff; text-decoration-color: #ff00ff\">Джордж Харрисон</span> атакует <span style=\"color: #00005f; text-decoration-color: #00005f\">Пол Маккартни</span> в <span style=\"color: #af8700; text-decoration-color: #af8700; font-style: italic\">стиле Харрисона</span> нанося <span style=\"color: #008080; text-decoration-color: #008080; font-weight: bold\">8</span> <span style=\"color: #800080; text-decoration-color: #800080; font-weight: bold\">единиц</span><span style=\"font-weight: bold\">(</span>ы<span style=\"font-weight: bold\">)</span> урона\n",
              "</pre>\n"
            ]
          },
          "metadata": {}
        },
        {
          "output_type": "display_data",
          "data": {
            "text/plain": [
              "\u001b[38;5;17mПол Маккартни\u001b[0m \u001b[1;35mбыл\u001b[0m\u001b[1m(\u001b[0mа\u001b[1m)\u001b[0m \u001b[1;38;5;160mуничтожен\u001b[0m\u001b[1;38;5;160m(\u001b[0m\u001b[1;38;5;160mа\u001b[0m\u001b[1;38;5;160m)\u001b[0m!\n"
            ],
            "text/html": [
              "<pre style=\"white-space:pre;overflow-x:auto;line-height:normal;font-family:Menlo,'DejaVu Sans Mono',consolas,'Courier New',monospace\"><span style=\"color: #00005f; text-decoration-color: #00005f\">Пол Маккартни</span> <span style=\"color: #800080; text-decoration-color: #800080; font-weight: bold\">был</span><span style=\"font-weight: bold\">(</span>а<span style=\"font-weight: bold\">)</span> <span style=\"color: #d70000; text-decoration-color: #d70000; font-weight: bold\">уничтожен(а)</span>!\n",
              "</pre>\n"
            ]
          },
          "metadata": {}
        },
        {
          "output_type": "display_data",
          "data": {
            "text/plain": [
              "\u001b[38;5;17mПол Маккартни\u001b[0m атакует \u001b[95mДжордж Харрисон\u001b[0m в \u001b[3;32mстиле Маккартни\u001b[0m нанося \u001b[1;36m2\u001b[0m \u001b[1;35mединиц\u001b[0m\u001b[1m(\u001b[0mы\u001b[1m)\u001b[0m урона\n"
            ],
            "text/html": [
              "<pre style=\"white-space:pre;overflow-x:auto;line-height:normal;font-family:Menlo,'DejaVu Sans Mono',consolas,'Courier New',monospace\"><span style=\"color: #00005f; text-decoration-color: #00005f\">Пол Маккартни</span> атакует <span style=\"color: #ff00ff; text-decoration-color: #ff00ff\">Джордж Харрисон</span> в <span style=\"color: #008000; text-decoration-color: #008000; font-style: italic\">стиле Маккартни</span> нанося <span style=\"color: #008080; text-decoration-color: #008080; font-weight: bold\">2</span> <span style=\"color: #800080; text-decoration-color: #800080; font-weight: bold\">единиц</span><span style=\"font-weight: bold\">(</span>ы<span style=\"font-weight: bold\">)</span> урона\n",
              "</pre>\n"
            ]
          },
          "metadata": {}
        },
        {
          "output_type": "display_data",
          "data": {
            "text/plain": [
              "\n",
              "Армия \u001b[95mДжордж Харрисон\u001b[0m: \u001b[1;36m22\u001b[0m жуков осталось\n",
              "Армия \u001b[38;5;17mПол Маккартни\u001b[0m: \u001b[1;36m20\u001b[0m жуков осталось\n",
              " \n"
            ],
            "text/html": [
              "<pre style=\"white-space:pre;overflow-x:auto;line-height:normal;font-family:Menlo,'DejaVu Sans Mono',consolas,'Courier New',monospace\">\n",
              "Армия <span style=\"color: #ff00ff; text-decoration-color: #ff00ff\">Джордж Харрисон</span>: <span style=\"color: #008080; text-decoration-color: #008080; font-weight: bold\">22</span> жуков осталось\n",
              "Армия <span style=\"color: #00005f; text-decoration-color: #00005f\">Пол Маккартни</span>: <span style=\"color: #008080; text-decoration-color: #008080; font-weight: bold\">20</span> жуков осталось\n",
              " \n",
              "</pre>\n"
            ]
          },
          "metadata": {}
        },
        {
          "output_type": "display_data",
          "data": {
            "text/plain": [
              "\u001b[95mДжордж Харрисон\u001b[0m атакует \u001b[38;5;17mПол Маккартни\u001b[0m в \u001b[3;38;5;136mстиле Харрисона\u001b[0m нанося \u001b[1;36m126\u001b[0m \u001b[1;35mединиц\u001b[0m\u001b[1m(\u001b[0mы\u001b[1m)\u001b[0m урона\n"
            ],
            "text/html": [
              "<pre style=\"white-space:pre;overflow-x:auto;line-height:normal;font-family:Menlo,'DejaVu Sans Mono',consolas,'Courier New',monospace\"><span style=\"color: #ff00ff; text-decoration-color: #ff00ff\">Джордж Харрисон</span> атакует <span style=\"color: #00005f; text-decoration-color: #00005f\">Пол Маккартни</span> в <span style=\"color: #af8700; text-decoration-color: #af8700; font-style: italic\">стиле Харрисона</span> нанося <span style=\"color: #008080; text-decoration-color: #008080; font-weight: bold\">126</span> <span style=\"color: #800080; text-decoration-color: #800080; font-weight: bold\">единиц</span><span style=\"font-weight: bold\">(</span>ы<span style=\"font-weight: bold\">)</span> урона\n",
              "</pre>\n"
            ]
          },
          "metadata": {}
        },
        {
          "output_type": "display_data",
          "data": {
            "text/plain": [
              "\u001b[38;5;17mПол Маккартни\u001b[0m \u001b[1;35mбыл\u001b[0m\u001b[1m(\u001b[0mа\u001b[1m)\u001b[0m \u001b[1;38;5;160mуничтожен\u001b[0m\u001b[1;38;5;160m(\u001b[0m\u001b[1;38;5;160mа\u001b[0m\u001b[1;38;5;160m)\u001b[0m!\n"
            ],
            "text/html": [
              "<pre style=\"white-space:pre;overflow-x:auto;line-height:normal;font-family:Menlo,'DejaVu Sans Mono',consolas,'Courier New',monospace\"><span style=\"color: #00005f; text-decoration-color: #00005f\">Пол Маккартни</span> <span style=\"color: #800080; text-decoration-color: #800080; font-weight: bold\">был</span><span style=\"font-weight: bold\">(</span>а<span style=\"font-weight: bold\">)</span> <span style=\"color: #d70000; text-decoration-color: #d70000; font-weight: bold\">уничтожен(а)</span>!\n",
              "</pre>\n"
            ]
          },
          "metadata": {}
        },
        {
          "output_type": "display_data",
          "data": {
            "text/plain": [
              "\u001b[38;5;17mПол Маккартни\u001b[0m атакует \u001b[95mДжордж Харрисон\u001b[0m в \u001b[3;32mстиле Маккартни\u001b[0m нанося \u001b[1;36m2\u001b[0m \u001b[1;35mединиц\u001b[0m\u001b[1m(\u001b[0mы\u001b[1m)\u001b[0m урона\n"
            ],
            "text/html": [
              "<pre style=\"white-space:pre;overflow-x:auto;line-height:normal;font-family:Menlo,'DejaVu Sans Mono',consolas,'Courier New',monospace\"><span style=\"color: #00005f; text-decoration-color: #00005f\">Пол Маккартни</span> атакует <span style=\"color: #ff00ff; text-decoration-color: #ff00ff\">Джордж Харрисон</span> в <span style=\"color: #008000; text-decoration-color: #008000; font-style: italic\">стиле Маккартни</span> нанося <span style=\"color: #008080; text-decoration-color: #008080; font-weight: bold\">2</span> <span style=\"color: #800080; text-decoration-color: #800080; font-weight: bold\">единиц</span><span style=\"font-weight: bold\">(</span>ы<span style=\"font-weight: bold\">)</span> урона\n",
              "</pre>\n"
            ]
          },
          "metadata": {}
        },
        {
          "output_type": "display_data",
          "data": {
            "text/plain": [
              "\n",
              "Армия \u001b[95mДжордж Харрисон\u001b[0m: \u001b[1;36m22\u001b[0m жуков осталось\n",
              "Армия \u001b[38;5;17mПол Маккартни\u001b[0m: \u001b[1;36m19\u001b[0m жуков осталось\n",
              " \n"
            ],
            "text/html": [
              "<pre style=\"white-space:pre;overflow-x:auto;line-height:normal;font-family:Menlo,'DejaVu Sans Mono',consolas,'Courier New',monospace\">\n",
              "Армия <span style=\"color: #ff00ff; text-decoration-color: #ff00ff\">Джордж Харрисон</span>: <span style=\"color: #008080; text-decoration-color: #008080; font-weight: bold\">22</span> жуков осталось\n",
              "Армия <span style=\"color: #00005f; text-decoration-color: #00005f\">Пол Маккартни</span>: <span style=\"color: #008080; text-decoration-color: #008080; font-weight: bold\">19</span> жуков осталось\n",
              " \n",
              "</pre>\n"
            ]
          },
          "metadata": {}
        },
        {
          "output_type": "display_data",
          "data": {
            "text/plain": [
              "\u001b[95mДжордж Харрисон\u001b[0m атакует \u001b[38;5;17mПол Маккартни\u001b[0m в \u001b[3;38;5;136mстиле Харрисона\u001b[0m нанося \u001b[1;36m129\u001b[0m \u001b[1;35mединиц\u001b[0m\u001b[1m(\u001b[0mы\u001b[1m)\u001b[0m урона\n"
            ],
            "text/html": [
              "<pre style=\"white-space:pre;overflow-x:auto;line-height:normal;font-family:Menlo,'DejaVu Sans Mono',consolas,'Courier New',monospace\"><span style=\"color: #ff00ff; text-decoration-color: #ff00ff\">Джордж Харрисон</span> атакует <span style=\"color: #00005f; text-decoration-color: #00005f\">Пол Маккартни</span> в <span style=\"color: #af8700; text-decoration-color: #af8700; font-style: italic\">стиле Харрисона</span> нанося <span style=\"color: #008080; text-decoration-color: #008080; font-weight: bold\">129</span> <span style=\"color: #800080; text-decoration-color: #800080; font-weight: bold\">единиц</span><span style=\"font-weight: bold\">(</span>ы<span style=\"font-weight: bold\">)</span> урона\n",
              "</pre>\n"
            ]
          },
          "metadata": {}
        },
        {
          "output_type": "display_data",
          "data": {
            "text/plain": [
              "\u001b[38;5;17mПол Маккартни\u001b[0m \u001b[1;35mбыл\u001b[0m\u001b[1m(\u001b[0mа\u001b[1m)\u001b[0m \u001b[1;38;5;160mуничтожен\u001b[0m\u001b[1;38;5;160m(\u001b[0m\u001b[1;38;5;160mа\u001b[0m\u001b[1;38;5;160m)\u001b[0m!\n"
            ],
            "text/html": [
              "<pre style=\"white-space:pre;overflow-x:auto;line-height:normal;font-family:Menlo,'DejaVu Sans Mono',consolas,'Courier New',monospace\"><span style=\"color: #00005f; text-decoration-color: #00005f\">Пол Маккартни</span> <span style=\"color: #800080; text-decoration-color: #800080; font-weight: bold\">был</span><span style=\"font-weight: bold\">(</span>а<span style=\"font-weight: bold\">)</span> <span style=\"color: #d70000; text-decoration-color: #d70000; font-weight: bold\">уничтожен(а)</span>!\n",
              "</pre>\n"
            ]
          },
          "metadata": {}
        },
        {
          "output_type": "display_data",
          "data": {
            "text/plain": [
              "\u001b[38;5;17mПол Маккартни\u001b[0m атакует \u001b[95mДжордж Харрисон\u001b[0m в \u001b[3;32mстиле Маккартни\u001b[0m нанося \u001b[1;36m2\u001b[0m \u001b[1;35mединиц\u001b[0m\u001b[1m(\u001b[0mы\u001b[1m)\u001b[0m урона\n"
            ],
            "text/html": [
              "<pre style=\"white-space:pre;overflow-x:auto;line-height:normal;font-family:Menlo,'DejaVu Sans Mono',consolas,'Courier New',monospace\"><span style=\"color: #00005f; text-decoration-color: #00005f\">Пол Маккартни</span> атакует <span style=\"color: #ff00ff; text-decoration-color: #ff00ff\">Джордж Харрисон</span> в <span style=\"color: #008000; text-decoration-color: #008000; font-style: italic\">стиле Маккартни</span> нанося <span style=\"color: #008080; text-decoration-color: #008080; font-weight: bold\">2</span> <span style=\"color: #800080; text-decoration-color: #800080; font-weight: bold\">единиц</span><span style=\"font-weight: bold\">(</span>ы<span style=\"font-weight: bold\">)</span> урона\n",
              "</pre>\n"
            ]
          },
          "metadata": {}
        },
        {
          "output_type": "display_data",
          "data": {
            "text/plain": [
              "\n",
              "Армия \u001b[95mДжордж Харрисон\u001b[0m: \u001b[1;36m22\u001b[0m жуков осталось\n",
              "Армия \u001b[38;5;17mПол Маккартни\u001b[0m: \u001b[1;36m18\u001b[0m жуков осталось\n",
              " \n"
            ],
            "text/html": [
              "<pre style=\"white-space:pre;overflow-x:auto;line-height:normal;font-family:Menlo,'DejaVu Sans Mono',consolas,'Courier New',monospace\">\n",
              "Армия <span style=\"color: #ff00ff; text-decoration-color: #ff00ff\">Джордж Харрисон</span>: <span style=\"color: #008080; text-decoration-color: #008080; font-weight: bold\">22</span> жуков осталось\n",
              "Армия <span style=\"color: #00005f; text-decoration-color: #00005f\">Пол Маккартни</span>: <span style=\"color: #008080; text-decoration-color: #008080; font-weight: bold\">18</span> жуков осталось\n",
              " \n",
              "</pre>\n"
            ]
          },
          "metadata": {}
        },
        {
          "output_type": "display_data",
          "data": {
            "text/plain": [
              "\u001b[95mДжордж Харрисон\u001b[0m атакует \u001b[38;5;17mПол Маккартни\u001b[0m в \u001b[3;38;5;136mстиле Харрисона\u001b[0m нанося \u001b[1;36m68\u001b[0m \u001b[1;35mединиц\u001b[0m\u001b[1m(\u001b[0mы\u001b[1m)\u001b[0m урона\n"
            ],
            "text/html": [
              "<pre style=\"white-space:pre;overflow-x:auto;line-height:normal;font-family:Menlo,'DejaVu Sans Mono',consolas,'Courier New',monospace\"><span style=\"color: #ff00ff; text-decoration-color: #ff00ff\">Джордж Харрисон</span> атакует <span style=\"color: #00005f; text-decoration-color: #00005f\">Пол Маккартни</span> в <span style=\"color: #af8700; text-decoration-color: #af8700; font-style: italic\">стиле Харрисона</span> нанося <span style=\"color: #008080; text-decoration-color: #008080; font-weight: bold\">68</span> <span style=\"color: #800080; text-decoration-color: #800080; font-weight: bold\">единиц</span><span style=\"font-weight: bold\">(</span>ы<span style=\"font-weight: bold\">)</span> урона\n",
              "</pre>\n"
            ]
          },
          "metadata": {}
        },
        {
          "output_type": "display_data",
          "data": {
            "text/plain": [
              "\u001b[38;5;17mПол Маккартни\u001b[0m \u001b[1;35mбыл\u001b[0m\u001b[1m(\u001b[0mа\u001b[1m)\u001b[0m \u001b[1;38;5;160mуничтожен\u001b[0m\u001b[1;38;5;160m(\u001b[0m\u001b[1;38;5;160mа\u001b[0m\u001b[1;38;5;160m)\u001b[0m!\n"
            ],
            "text/html": [
              "<pre style=\"white-space:pre;overflow-x:auto;line-height:normal;font-family:Menlo,'DejaVu Sans Mono',consolas,'Courier New',monospace\"><span style=\"color: #00005f; text-decoration-color: #00005f\">Пол Маккартни</span> <span style=\"color: #800080; text-decoration-color: #800080; font-weight: bold\">был</span><span style=\"font-weight: bold\">(</span>а<span style=\"font-weight: bold\">)</span> <span style=\"color: #d70000; text-decoration-color: #d70000; font-weight: bold\">уничтожен(а)</span>!\n",
              "</pre>\n"
            ]
          },
          "metadata": {}
        },
        {
          "output_type": "display_data",
          "data": {
            "text/plain": [
              "\u001b[38;5;17mПол Маккартни\u001b[0m атакует \u001b[95mДжордж Харрисон\u001b[0m в \u001b[3;32mстиле Маккартни\u001b[0m нанося \u001b[1;36m2\u001b[0m \u001b[1;35mединиц\u001b[0m\u001b[1m(\u001b[0mы\u001b[1m)\u001b[0m урона\n"
            ],
            "text/html": [
              "<pre style=\"white-space:pre;overflow-x:auto;line-height:normal;font-family:Menlo,'DejaVu Sans Mono',consolas,'Courier New',monospace\"><span style=\"color: #00005f; text-decoration-color: #00005f\">Пол Маккартни</span> атакует <span style=\"color: #ff00ff; text-decoration-color: #ff00ff\">Джордж Харрисон</span> в <span style=\"color: #008000; text-decoration-color: #008000; font-style: italic\">стиле Маккартни</span> нанося <span style=\"color: #008080; text-decoration-color: #008080; font-weight: bold\">2</span> <span style=\"color: #800080; text-decoration-color: #800080; font-weight: bold\">единиц</span><span style=\"font-weight: bold\">(</span>ы<span style=\"font-weight: bold\">)</span> урона\n",
              "</pre>\n"
            ]
          },
          "metadata": {}
        },
        {
          "output_type": "display_data",
          "data": {
            "text/plain": [
              "\n",
              "Армия \u001b[95mДжордж Харрисон\u001b[0m: \u001b[1;36m22\u001b[0m жуков осталось\n",
              "Армия \u001b[38;5;17mПол Маккартни\u001b[0m: \u001b[1;36m17\u001b[0m жуков осталось\n",
              " \n"
            ],
            "text/html": [
              "<pre style=\"white-space:pre;overflow-x:auto;line-height:normal;font-family:Menlo,'DejaVu Sans Mono',consolas,'Courier New',monospace\">\n",
              "Армия <span style=\"color: #ff00ff; text-decoration-color: #ff00ff\">Джордж Харрисон</span>: <span style=\"color: #008080; text-decoration-color: #008080; font-weight: bold\">22</span> жуков осталось\n",
              "Армия <span style=\"color: #00005f; text-decoration-color: #00005f\">Пол Маккартни</span>: <span style=\"color: #008080; text-decoration-color: #008080; font-weight: bold\">17</span> жуков осталось\n",
              " \n",
              "</pre>\n"
            ]
          },
          "metadata": {}
        },
        {
          "output_type": "display_data",
          "data": {
            "text/plain": [
              "\u001b[95mДжордж Харрисон\u001b[0m атакует \u001b[38;5;17mПол Маккартни\u001b[0m в \u001b[3;38;5;136mстиле Харрисона\u001b[0m нанося \u001b[1;36m105\u001b[0m \u001b[1;35mединиц\u001b[0m\u001b[1m(\u001b[0mы\u001b[1m)\u001b[0m урона\n"
            ],
            "text/html": [
              "<pre style=\"white-space:pre;overflow-x:auto;line-height:normal;font-family:Menlo,'DejaVu Sans Mono',consolas,'Courier New',monospace\"><span style=\"color: #ff00ff; text-decoration-color: #ff00ff\">Джордж Харрисон</span> атакует <span style=\"color: #00005f; text-decoration-color: #00005f\">Пол Маккартни</span> в <span style=\"color: #af8700; text-decoration-color: #af8700; font-style: italic\">стиле Харрисона</span> нанося <span style=\"color: #008080; text-decoration-color: #008080; font-weight: bold\">105</span> <span style=\"color: #800080; text-decoration-color: #800080; font-weight: bold\">единиц</span><span style=\"font-weight: bold\">(</span>ы<span style=\"font-weight: bold\">)</span> урона\n",
              "</pre>\n"
            ]
          },
          "metadata": {}
        },
        {
          "output_type": "display_data",
          "data": {
            "text/plain": [
              "\u001b[38;5;17mПол Маккартни\u001b[0m \u001b[1;35mбыл\u001b[0m\u001b[1m(\u001b[0mа\u001b[1m)\u001b[0m \u001b[1;38;5;160mуничтожен\u001b[0m\u001b[1;38;5;160m(\u001b[0m\u001b[1;38;5;160mа\u001b[0m\u001b[1;38;5;160m)\u001b[0m!\n"
            ],
            "text/html": [
              "<pre style=\"white-space:pre;overflow-x:auto;line-height:normal;font-family:Menlo,'DejaVu Sans Mono',consolas,'Courier New',monospace\"><span style=\"color: #00005f; text-decoration-color: #00005f\">Пол Маккартни</span> <span style=\"color: #800080; text-decoration-color: #800080; font-weight: bold\">был</span><span style=\"font-weight: bold\">(</span>а<span style=\"font-weight: bold\">)</span> <span style=\"color: #d70000; text-decoration-color: #d70000; font-weight: bold\">уничтожен(а)</span>!\n",
              "</pre>\n"
            ]
          },
          "metadata": {}
        },
        {
          "output_type": "display_data",
          "data": {
            "text/plain": [
              "\u001b[38;5;17mПол Маккартни\u001b[0m атакует \u001b[95mДжордж Харрисон\u001b[0m в \u001b[3;32mстиле Маккартни\u001b[0m нанося \u001b[1;36m2\u001b[0m \u001b[1;35mединиц\u001b[0m\u001b[1m(\u001b[0mы\u001b[1m)\u001b[0m урона\n"
            ],
            "text/html": [
              "<pre style=\"white-space:pre;overflow-x:auto;line-height:normal;font-family:Menlo,'DejaVu Sans Mono',consolas,'Courier New',monospace\"><span style=\"color: #00005f; text-decoration-color: #00005f\">Пол Маккартни</span> атакует <span style=\"color: #ff00ff; text-decoration-color: #ff00ff\">Джордж Харрисон</span> в <span style=\"color: #008000; text-decoration-color: #008000; font-style: italic\">стиле Маккартни</span> нанося <span style=\"color: #008080; text-decoration-color: #008080; font-weight: bold\">2</span> <span style=\"color: #800080; text-decoration-color: #800080; font-weight: bold\">единиц</span><span style=\"font-weight: bold\">(</span>ы<span style=\"font-weight: bold\">)</span> урона\n",
              "</pre>\n"
            ]
          },
          "metadata": {}
        },
        {
          "output_type": "display_data",
          "data": {
            "text/plain": [
              "\n",
              "Армия \u001b[95mДжордж Харрисон\u001b[0m: \u001b[1;36m22\u001b[0m жуков осталось\n",
              "Армия \u001b[38;5;17mПол Маккартни\u001b[0m: \u001b[1;36m16\u001b[0m жуков осталось\n",
              " \n"
            ],
            "text/html": [
              "<pre style=\"white-space:pre;overflow-x:auto;line-height:normal;font-family:Menlo,'DejaVu Sans Mono',consolas,'Courier New',monospace\">\n",
              "Армия <span style=\"color: #ff00ff; text-decoration-color: #ff00ff\">Джордж Харрисон</span>: <span style=\"color: #008080; text-decoration-color: #008080; font-weight: bold\">22</span> жуков осталось\n",
              "Армия <span style=\"color: #00005f; text-decoration-color: #00005f\">Пол Маккартни</span>: <span style=\"color: #008080; text-decoration-color: #008080; font-weight: bold\">16</span> жуков осталось\n",
              " \n",
              "</pre>\n"
            ]
          },
          "metadata": {}
        },
        {
          "output_type": "display_data",
          "data": {
            "text/plain": [
              "\u001b[95mДжордж Харрисон\u001b[0m атакует \u001b[38;5;17mПол Маккартни\u001b[0m в \u001b[3;38;5;136mстиле Харрисона\u001b[0m нанося \u001b[1;36m142\u001b[0m \u001b[1;35mединиц\u001b[0m\u001b[1m(\u001b[0mы\u001b[1m)\u001b[0m урона\n"
            ],
            "text/html": [
              "<pre style=\"white-space:pre;overflow-x:auto;line-height:normal;font-family:Menlo,'DejaVu Sans Mono',consolas,'Courier New',monospace\"><span style=\"color: #ff00ff; text-decoration-color: #ff00ff\">Джордж Харрисон</span> атакует <span style=\"color: #00005f; text-decoration-color: #00005f\">Пол Маккартни</span> в <span style=\"color: #af8700; text-decoration-color: #af8700; font-style: italic\">стиле Харрисона</span> нанося <span style=\"color: #008080; text-decoration-color: #008080; font-weight: bold\">142</span> <span style=\"color: #800080; text-decoration-color: #800080; font-weight: bold\">единиц</span><span style=\"font-weight: bold\">(</span>ы<span style=\"font-weight: bold\">)</span> урона\n",
              "</pre>\n"
            ]
          },
          "metadata": {}
        },
        {
          "output_type": "display_data",
          "data": {
            "text/plain": [
              "\u001b[38;5;17mПол Маккартни\u001b[0m \u001b[1;35mбыл\u001b[0m\u001b[1m(\u001b[0mа\u001b[1m)\u001b[0m \u001b[1;38;5;160mуничтожен\u001b[0m\u001b[1;38;5;160m(\u001b[0m\u001b[1;38;5;160mа\u001b[0m\u001b[1;38;5;160m)\u001b[0m!\n"
            ],
            "text/html": [
              "<pre style=\"white-space:pre;overflow-x:auto;line-height:normal;font-family:Menlo,'DejaVu Sans Mono',consolas,'Courier New',monospace\"><span style=\"color: #00005f; text-decoration-color: #00005f\">Пол Маккартни</span> <span style=\"color: #800080; text-decoration-color: #800080; font-weight: bold\">был</span><span style=\"font-weight: bold\">(</span>а<span style=\"font-weight: bold\">)</span> <span style=\"color: #d70000; text-decoration-color: #d70000; font-weight: bold\">уничтожен(а)</span>!\n",
              "</pre>\n"
            ]
          },
          "metadata": {}
        },
        {
          "output_type": "display_data",
          "data": {
            "text/plain": [
              "\u001b[38;5;17mПол Маккартни\u001b[0m атакует \u001b[95mДжордж Харрисон\u001b[0m в \u001b[3;32mстиле Маккартни\u001b[0m нанося \u001b[1;36m1\u001b[0m \u001b[1;35mединиц\u001b[0m\u001b[1m(\u001b[0mы\u001b[1m)\u001b[0m урона\n"
            ],
            "text/html": [
              "<pre style=\"white-space:pre;overflow-x:auto;line-height:normal;font-family:Menlo,'DejaVu Sans Mono',consolas,'Courier New',monospace\"><span style=\"color: #00005f; text-decoration-color: #00005f\">Пол Маккартни</span> атакует <span style=\"color: #ff00ff; text-decoration-color: #ff00ff\">Джордж Харрисон</span> в <span style=\"color: #008000; text-decoration-color: #008000; font-style: italic\">стиле Маккартни</span> нанося <span style=\"color: #008080; text-decoration-color: #008080; font-weight: bold\">1</span> <span style=\"color: #800080; text-decoration-color: #800080; font-weight: bold\">единиц</span><span style=\"font-weight: bold\">(</span>ы<span style=\"font-weight: bold\">)</span> урона\n",
              "</pre>\n"
            ]
          },
          "metadata": {}
        },
        {
          "output_type": "display_data",
          "data": {
            "text/plain": [
              "\u001b[95mДжордж Харрисон\u001b[0m \u001b[1;35mбыл\u001b[0m\u001b[1m(\u001b[0mа\u001b[1m)\u001b[0m \u001b[1;38;5;160mуничтожен\u001b[0m\u001b[1;38;5;160m(\u001b[0m\u001b[1;38;5;160mа\u001b[0m\u001b[1;38;5;160m)\u001b[0m!\n"
            ],
            "text/html": [
              "<pre style=\"white-space:pre;overflow-x:auto;line-height:normal;font-family:Menlo,'DejaVu Sans Mono',consolas,'Courier New',monospace\"><span style=\"color: #ff00ff; text-decoration-color: #ff00ff\">Джордж Харрисон</span> <span style=\"color: #800080; text-decoration-color: #800080; font-weight: bold\">был</span><span style=\"font-weight: bold\">(</span>а<span style=\"font-weight: bold\">)</span> <span style=\"color: #d70000; text-decoration-color: #d70000; font-weight: bold\">уничтожен(а)</span>!\n",
              "</pre>\n"
            ]
          },
          "metadata": {}
        },
        {
          "output_type": "display_data",
          "data": {
            "text/plain": [
              "\n",
              "Армия \u001b[95mДжордж Харрисон\u001b[0m: \u001b[1;36m21\u001b[0m жуков осталось\n",
              "Армия \u001b[38;5;17mПол Маккартни\u001b[0m: \u001b[1;36m15\u001b[0m жуков осталось\n",
              " \n"
            ],
            "text/html": [
              "<pre style=\"white-space:pre;overflow-x:auto;line-height:normal;font-family:Menlo,'DejaVu Sans Mono',consolas,'Courier New',monospace\">\n",
              "Армия <span style=\"color: #ff00ff; text-decoration-color: #ff00ff\">Джордж Харрисон</span>: <span style=\"color: #008080; text-decoration-color: #008080; font-weight: bold\">21</span> жуков осталось\n",
              "Армия <span style=\"color: #00005f; text-decoration-color: #00005f\">Пол Маккартни</span>: <span style=\"color: #008080; text-decoration-color: #008080; font-weight: bold\">15</span> жуков осталось\n",
              " \n",
              "</pre>\n"
            ]
          },
          "metadata": {}
        },
        {
          "output_type": "display_data",
          "data": {
            "text/plain": [
              "\u001b[95mДжордж Харрисон\u001b[0m атакует \u001b[38;5;17mПол Маккартни\u001b[0m в \u001b[3;38;5;136mстиле Харрисона\u001b[0m нанося \u001b[1;36m129\u001b[0m \u001b[1;35mединиц\u001b[0m\u001b[1m(\u001b[0mы\u001b[1m)\u001b[0m урона\n"
            ],
            "text/html": [
              "<pre style=\"white-space:pre;overflow-x:auto;line-height:normal;font-family:Menlo,'DejaVu Sans Mono',consolas,'Courier New',monospace\"><span style=\"color: #ff00ff; text-decoration-color: #ff00ff\">Джордж Харрисон</span> атакует <span style=\"color: #00005f; text-decoration-color: #00005f\">Пол Маккартни</span> в <span style=\"color: #af8700; text-decoration-color: #af8700; font-style: italic\">стиле Харрисона</span> нанося <span style=\"color: #008080; text-decoration-color: #008080; font-weight: bold\">129</span> <span style=\"color: #800080; text-decoration-color: #800080; font-weight: bold\">единиц</span><span style=\"font-weight: bold\">(</span>ы<span style=\"font-weight: bold\">)</span> урона\n",
              "</pre>\n"
            ]
          },
          "metadata": {}
        },
        {
          "output_type": "display_data",
          "data": {
            "text/plain": [
              "\u001b[38;5;17mПол Маккартни\u001b[0m \u001b[1;35mбыл\u001b[0m\u001b[1m(\u001b[0mа\u001b[1m)\u001b[0m \u001b[1;38;5;160mуничтожен\u001b[0m\u001b[1;38;5;160m(\u001b[0m\u001b[1;38;5;160mа\u001b[0m\u001b[1;38;5;160m)\u001b[0m!\n"
            ],
            "text/html": [
              "<pre style=\"white-space:pre;overflow-x:auto;line-height:normal;font-family:Menlo,'DejaVu Sans Mono',consolas,'Courier New',monospace\"><span style=\"color: #00005f; text-decoration-color: #00005f\">Пол Маккартни</span> <span style=\"color: #800080; text-decoration-color: #800080; font-weight: bold\">был</span><span style=\"font-weight: bold\">(</span>а<span style=\"font-weight: bold\">)</span> <span style=\"color: #d70000; text-decoration-color: #d70000; font-weight: bold\">уничтожен(а)</span>!\n",
              "</pre>\n"
            ]
          },
          "metadata": {}
        },
        {
          "output_type": "display_data",
          "data": {
            "text/plain": [
              "\u001b[38;5;17mПол Маккартни\u001b[0m атакует \u001b[95mДжордж Харрисон\u001b[0m в \u001b[3;32mстиле Маккартни\u001b[0m нанося \u001b[1;36m1\u001b[0m \u001b[1;35mединиц\u001b[0m\u001b[1m(\u001b[0mы\u001b[1m)\u001b[0m урона\n"
            ],
            "text/html": [
              "<pre style=\"white-space:pre;overflow-x:auto;line-height:normal;font-family:Menlo,'DejaVu Sans Mono',consolas,'Courier New',monospace\"><span style=\"color: #00005f; text-decoration-color: #00005f\">Пол Маккартни</span> атакует <span style=\"color: #ff00ff; text-decoration-color: #ff00ff\">Джордж Харрисон</span> в <span style=\"color: #008000; text-decoration-color: #008000; font-style: italic\">стиле Маккартни</span> нанося <span style=\"color: #008080; text-decoration-color: #008080; font-weight: bold\">1</span> <span style=\"color: #800080; text-decoration-color: #800080; font-weight: bold\">единиц</span><span style=\"font-weight: bold\">(</span>ы<span style=\"font-weight: bold\">)</span> урона\n",
              "</pre>\n"
            ]
          },
          "metadata": {}
        },
        {
          "output_type": "display_data",
          "data": {
            "text/plain": [
              "\n",
              "Армия \u001b[95mДжордж Харрисон\u001b[0m: \u001b[1;36m21\u001b[0m жуков осталось\n",
              "Армия \u001b[38;5;17mПол Маккартни\u001b[0m: \u001b[1;36m14\u001b[0m жуков осталось\n",
              " \n"
            ],
            "text/html": [
              "<pre style=\"white-space:pre;overflow-x:auto;line-height:normal;font-family:Menlo,'DejaVu Sans Mono',consolas,'Courier New',monospace\">\n",
              "Армия <span style=\"color: #ff00ff; text-decoration-color: #ff00ff\">Джордж Харрисон</span>: <span style=\"color: #008080; text-decoration-color: #008080; font-weight: bold\">21</span> жуков осталось\n",
              "Армия <span style=\"color: #00005f; text-decoration-color: #00005f\">Пол Маккартни</span>: <span style=\"color: #008080; text-decoration-color: #008080; font-weight: bold\">14</span> жуков осталось\n",
              " \n",
              "</pre>\n"
            ]
          },
          "metadata": {}
        },
        {
          "output_type": "display_data",
          "data": {
            "text/plain": [
              "\u001b[95mДжордж Харрисон\u001b[0m атакует \u001b[38;5;17mПол Маккартни\u001b[0m в \u001b[3;38;5;136mстиле Харрисона\u001b[0m нанося \u001b[1;36m107\u001b[0m \u001b[1;35mединиц\u001b[0m\u001b[1m(\u001b[0mы\u001b[1m)\u001b[0m урона\n"
            ],
            "text/html": [
              "<pre style=\"white-space:pre;overflow-x:auto;line-height:normal;font-family:Menlo,'DejaVu Sans Mono',consolas,'Courier New',monospace\"><span style=\"color: #ff00ff; text-decoration-color: #ff00ff\">Джордж Харрисон</span> атакует <span style=\"color: #00005f; text-decoration-color: #00005f\">Пол Маккартни</span> в <span style=\"color: #af8700; text-decoration-color: #af8700; font-style: italic\">стиле Харрисона</span> нанося <span style=\"color: #008080; text-decoration-color: #008080; font-weight: bold\">107</span> <span style=\"color: #800080; text-decoration-color: #800080; font-weight: bold\">единиц</span><span style=\"font-weight: bold\">(</span>ы<span style=\"font-weight: bold\">)</span> урона\n",
              "</pre>\n"
            ]
          },
          "metadata": {}
        },
        {
          "output_type": "display_data",
          "data": {
            "text/plain": [
              "\u001b[38;5;17mПол Маккартни\u001b[0m \u001b[1;35mбыл\u001b[0m\u001b[1m(\u001b[0mа\u001b[1m)\u001b[0m \u001b[1;38;5;160mуничтожен\u001b[0m\u001b[1;38;5;160m(\u001b[0m\u001b[1;38;5;160mа\u001b[0m\u001b[1;38;5;160m)\u001b[0m!\n"
            ],
            "text/html": [
              "<pre style=\"white-space:pre;overflow-x:auto;line-height:normal;font-family:Menlo,'DejaVu Sans Mono',consolas,'Courier New',monospace\"><span style=\"color: #00005f; text-decoration-color: #00005f\">Пол Маккартни</span> <span style=\"color: #800080; text-decoration-color: #800080; font-weight: bold\">был</span><span style=\"font-weight: bold\">(</span>а<span style=\"font-weight: bold\">)</span> <span style=\"color: #d70000; text-decoration-color: #d70000; font-weight: bold\">уничтожен(а)</span>!\n",
              "</pre>\n"
            ]
          },
          "metadata": {}
        },
        {
          "output_type": "display_data",
          "data": {
            "text/plain": [
              "\u001b[38;5;17mПол Маккартни\u001b[0m атакует \u001b[95mДжордж Харрисон\u001b[0m в \u001b[3;32mстиле Маккартни\u001b[0m нанося \u001b[1;36m1\u001b[0m \u001b[1;35mединиц\u001b[0m\u001b[1m(\u001b[0mы\u001b[1m)\u001b[0m урона\n"
            ],
            "text/html": [
              "<pre style=\"white-space:pre;overflow-x:auto;line-height:normal;font-family:Menlo,'DejaVu Sans Mono',consolas,'Courier New',monospace\"><span style=\"color: #00005f; text-decoration-color: #00005f\">Пол Маккартни</span> атакует <span style=\"color: #ff00ff; text-decoration-color: #ff00ff\">Джордж Харрисон</span> в <span style=\"color: #008000; text-decoration-color: #008000; font-style: italic\">стиле Маккартни</span> нанося <span style=\"color: #008080; text-decoration-color: #008080; font-weight: bold\">1</span> <span style=\"color: #800080; text-decoration-color: #800080; font-weight: bold\">единиц</span><span style=\"font-weight: bold\">(</span>ы<span style=\"font-weight: bold\">)</span> урона\n",
              "</pre>\n"
            ]
          },
          "metadata": {}
        },
        {
          "output_type": "display_data",
          "data": {
            "text/plain": [
              "\n",
              "Армия \u001b[95mДжордж Харрисон\u001b[0m: \u001b[1;36m21\u001b[0m жуков осталось\n",
              "Армия \u001b[38;5;17mПол Маккартни\u001b[0m: \u001b[1;36m13\u001b[0m жуков осталось\n",
              " \n"
            ],
            "text/html": [
              "<pre style=\"white-space:pre;overflow-x:auto;line-height:normal;font-family:Menlo,'DejaVu Sans Mono',consolas,'Courier New',monospace\">\n",
              "Армия <span style=\"color: #ff00ff; text-decoration-color: #ff00ff\">Джордж Харрисон</span>: <span style=\"color: #008080; text-decoration-color: #008080; font-weight: bold\">21</span> жуков осталось\n",
              "Армия <span style=\"color: #00005f; text-decoration-color: #00005f\">Пол Маккартни</span>: <span style=\"color: #008080; text-decoration-color: #008080; font-weight: bold\">13</span> жуков осталось\n",
              " \n",
              "</pre>\n"
            ]
          },
          "metadata": {}
        },
        {
          "output_type": "display_data",
          "data": {
            "text/plain": [
              "\u001b[95mДжордж Харрисон\u001b[0m атакует \u001b[38;5;17mПол Маккартни\u001b[0m в \u001b[3;38;5;136mстиле Харрисона\u001b[0m нанося \u001b[1;36m56\u001b[0m \u001b[1;35mединиц\u001b[0m\u001b[1m(\u001b[0mы\u001b[1m)\u001b[0m урона\n"
            ],
            "text/html": [
              "<pre style=\"white-space:pre;overflow-x:auto;line-height:normal;font-family:Menlo,'DejaVu Sans Mono',consolas,'Courier New',monospace\"><span style=\"color: #ff00ff; text-decoration-color: #ff00ff\">Джордж Харрисон</span> атакует <span style=\"color: #00005f; text-decoration-color: #00005f\">Пол Маккартни</span> в <span style=\"color: #af8700; text-decoration-color: #af8700; font-style: italic\">стиле Харрисона</span> нанося <span style=\"color: #008080; text-decoration-color: #008080; font-weight: bold\">56</span> <span style=\"color: #800080; text-decoration-color: #800080; font-weight: bold\">единиц</span><span style=\"font-weight: bold\">(</span>ы<span style=\"font-weight: bold\">)</span> урона\n",
              "</pre>\n"
            ]
          },
          "metadata": {}
        },
        {
          "output_type": "display_data",
          "data": {
            "text/plain": [
              "\u001b[38;5;17mПол Маккартни\u001b[0m \u001b[1;35mбыл\u001b[0m\u001b[1m(\u001b[0mа\u001b[1m)\u001b[0m \u001b[1;38;5;160mуничтожен\u001b[0m\u001b[1;38;5;160m(\u001b[0m\u001b[1;38;5;160mа\u001b[0m\u001b[1;38;5;160m)\u001b[0m!\n"
            ],
            "text/html": [
              "<pre style=\"white-space:pre;overflow-x:auto;line-height:normal;font-family:Menlo,'DejaVu Sans Mono',consolas,'Courier New',monospace\"><span style=\"color: #00005f; text-decoration-color: #00005f\">Пол Маккартни</span> <span style=\"color: #800080; text-decoration-color: #800080; font-weight: bold\">был</span><span style=\"font-weight: bold\">(</span>а<span style=\"font-weight: bold\">)</span> <span style=\"color: #d70000; text-decoration-color: #d70000; font-weight: bold\">уничтожен(а)</span>!\n",
              "</pre>\n"
            ]
          },
          "metadata": {}
        },
        {
          "output_type": "display_data",
          "data": {
            "text/plain": [
              "\u001b[38;5;17mПол Маккартни\u001b[0m атакует \u001b[95mДжордж Харрисон\u001b[0m в \u001b[3;32mстиле Маккартни\u001b[0m нанося \u001b[1;36m1\u001b[0m \u001b[1;35mединиц\u001b[0m\u001b[1m(\u001b[0mы\u001b[1m)\u001b[0m урона\n"
            ],
            "text/html": [
              "<pre style=\"white-space:pre;overflow-x:auto;line-height:normal;font-family:Menlo,'DejaVu Sans Mono',consolas,'Courier New',monospace\"><span style=\"color: #00005f; text-decoration-color: #00005f\">Пол Маккартни</span> атакует <span style=\"color: #ff00ff; text-decoration-color: #ff00ff\">Джордж Харрисон</span> в <span style=\"color: #008000; text-decoration-color: #008000; font-style: italic\">стиле Маккартни</span> нанося <span style=\"color: #008080; text-decoration-color: #008080; font-weight: bold\">1</span> <span style=\"color: #800080; text-decoration-color: #800080; font-weight: bold\">единиц</span><span style=\"font-weight: bold\">(</span>ы<span style=\"font-weight: bold\">)</span> урона\n",
              "</pre>\n"
            ]
          },
          "metadata": {}
        },
        {
          "output_type": "display_data",
          "data": {
            "text/plain": [
              "\u001b[95mДжордж Харрисон\u001b[0m \u001b[1;35mбыл\u001b[0m\u001b[1m(\u001b[0mа\u001b[1m)\u001b[0m \u001b[1;38;5;160mуничтожен\u001b[0m\u001b[1;38;5;160m(\u001b[0m\u001b[1;38;5;160mа\u001b[0m\u001b[1;38;5;160m)\u001b[0m!\n"
            ],
            "text/html": [
              "<pre style=\"white-space:pre;overflow-x:auto;line-height:normal;font-family:Menlo,'DejaVu Sans Mono',consolas,'Courier New',monospace\"><span style=\"color: #ff00ff; text-decoration-color: #ff00ff\">Джордж Харрисон</span> <span style=\"color: #800080; text-decoration-color: #800080; font-weight: bold\">был</span><span style=\"font-weight: bold\">(</span>а<span style=\"font-weight: bold\">)</span> <span style=\"color: #d70000; text-decoration-color: #d70000; font-weight: bold\">уничтожен(а)</span>!\n",
              "</pre>\n"
            ]
          },
          "metadata": {}
        },
        {
          "output_type": "display_data",
          "data": {
            "text/plain": [
              "\n",
              "Армия \u001b[95mДжордж Харрисон\u001b[0m: \u001b[1;36m20\u001b[0m жуков осталось\n",
              "Армия \u001b[38;5;17mПол Маккартни\u001b[0m: \u001b[1;36m12\u001b[0m жуков осталось\n",
              " \n"
            ],
            "text/html": [
              "<pre style=\"white-space:pre;overflow-x:auto;line-height:normal;font-family:Menlo,'DejaVu Sans Mono',consolas,'Courier New',monospace\">\n",
              "Армия <span style=\"color: #ff00ff; text-decoration-color: #ff00ff\">Джордж Харрисон</span>: <span style=\"color: #008080; text-decoration-color: #008080; font-weight: bold\">20</span> жуков осталось\n",
              "Армия <span style=\"color: #00005f; text-decoration-color: #00005f\">Пол Маккартни</span>: <span style=\"color: #008080; text-decoration-color: #008080; font-weight: bold\">12</span> жуков осталось\n",
              " \n",
              "</pre>\n"
            ]
          },
          "metadata": {}
        },
        {
          "output_type": "display_data",
          "data": {
            "text/plain": [
              "\u001b[95mДжордж Харрисон\u001b[0m атакует \u001b[38;5;17mПол Маккартни\u001b[0m в \u001b[3;38;5;136mстиле Харрисона\u001b[0m нанося \u001b[1;36m3\u001b[0m \u001b[1;35mединиц\u001b[0m\u001b[1m(\u001b[0mы\u001b[1m)\u001b[0m урона\n"
            ],
            "text/html": [
              "<pre style=\"white-space:pre;overflow-x:auto;line-height:normal;font-family:Menlo,'DejaVu Sans Mono',consolas,'Courier New',monospace\"><span style=\"color: #ff00ff; text-decoration-color: #ff00ff\">Джордж Харрисон</span> атакует <span style=\"color: #00005f; text-decoration-color: #00005f\">Пол Маккартни</span> в <span style=\"color: #af8700; text-decoration-color: #af8700; font-style: italic\">стиле Харрисона</span> нанося <span style=\"color: #008080; text-decoration-color: #008080; font-weight: bold\">3</span> <span style=\"color: #800080; text-decoration-color: #800080; font-weight: bold\">единиц</span><span style=\"font-weight: bold\">(</span>ы<span style=\"font-weight: bold\">)</span> урона\n",
              "</pre>\n"
            ]
          },
          "metadata": {}
        },
        {
          "output_type": "display_data",
          "data": {
            "text/plain": [
              "\u001b[38;5;17mПол Маккартни\u001b[0m \u001b[1;35mбыл\u001b[0m\u001b[1m(\u001b[0mа\u001b[1m)\u001b[0m \u001b[1;38;5;160mуничтожен\u001b[0m\u001b[1;38;5;160m(\u001b[0m\u001b[1;38;5;160mа\u001b[0m\u001b[1;38;5;160m)\u001b[0m!\n"
            ],
            "text/html": [
              "<pre style=\"white-space:pre;overflow-x:auto;line-height:normal;font-family:Menlo,'DejaVu Sans Mono',consolas,'Courier New',monospace\"><span style=\"color: #00005f; text-decoration-color: #00005f\">Пол Маккартни</span> <span style=\"color: #800080; text-decoration-color: #800080; font-weight: bold\">был</span><span style=\"font-weight: bold\">(</span>а<span style=\"font-weight: bold\">)</span> <span style=\"color: #d70000; text-decoration-color: #d70000; font-weight: bold\">уничтожен(а)</span>!\n",
              "</pre>\n"
            ]
          },
          "metadata": {}
        },
        {
          "output_type": "display_data",
          "data": {
            "text/plain": [
              "\u001b[38;5;17mПол Маккартни\u001b[0m атакует \u001b[95mДжордж Харрисон\u001b[0m в \u001b[3;32mстиле Маккартни\u001b[0m нанося \u001b[1;36m1\u001b[0m \u001b[1;35mединиц\u001b[0m\u001b[1m(\u001b[0mы\u001b[1m)\u001b[0m урона\n"
            ],
            "text/html": [
              "<pre style=\"white-space:pre;overflow-x:auto;line-height:normal;font-family:Menlo,'DejaVu Sans Mono',consolas,'Courier New',monospace\"><span style=\"color: #00005f; text-decoration-color: #00005f\">Пол Маккартни</span> атакует <span style=\"color: #ff00ff; text-decoration-color: #ff00ff\">Джордж Харрисон</span> в <span style=\"color: #008000; text-decoration-color: #008000; font-style: italic\">стиле Маккартни</span> нанося <span style=\"color: #008080; text-decoration-color: #008080; font-weight: bold\">1</span> <span style=\"color: #800080; text-decoration-color: #800080; font-weight: bold\">единиц</span><span style=\"font-weight: bold\">(</span>ы<span style=\"font-weight: bold\">)</span> урона\n",
              "</pre>\n"
            ]
          },
          "metadata": {}
        },
        {
          "output_type": "display_data",
          "data": {
            "text/plain": [
              "\n",
              "Армия \u001b[95mДжордж Харрисон\u001b[0m: \u001b[1;36m20\u001b[0m жуков осталось\n",
              "Армия \u001b[38;5;17mПол Маккартни\u001b[0m: \u001b[1;36m11\u001b[0m жуков осталось\n",
              " \n"
            ],
            "text/html": [
              "<pre style=\"white-space:pre;overflow-x:auto;line-height:normal;font-family:Menlo,'DejaVu Sans Mono',consolas,'Courier New',monospace\">\n",
              "Армия <span style=\"color: #ff00ff; text-decoration-color: #ff00ff\">Джордж Харрисон</span>: <span style=\"color: #008080; text-decoration-color: #008080; font-weight: bold\">20</span> жуков осталось\n",
              "Армия <span style=\"color: #00005f; text-decoration-color: #00005f\">Пол Маккартни</span>: <span style=\"color: #008080; text-decoration-color: #008080; font-weight: bold\">11</span> жуков осталось\n",
              " \n",
              "</pre>\n"
            ]
          },
          "metadata": {}
        },
        {
          "output_type": "display_data",
          "data": {
            "text/plain": [
              "\u001b[95mДжордж Харрисон\u001b[0m атакует \u001b[38;5;17mПол Маккартни\u001b[0m в \u001b[3;38;5;136mстиле Харрисона\u001b[0m нанося \u001b[1;36m207\u001b[0m \u001b[1;35mединиц\u001b[0m\u001b[1m(\u001b[0mы\u001b[1m)\u001b[0m урона\n"
            ],
            "text/html": [
              "<pre style=\"white-space:pre;overflow-x:auto;line-height:normal;font-family:Menlo,'DejaVu Sans Mono',consolas,'Courier New',monospace\"><span style=\"color: #ff00ff; text-decoration-color: #ff00ff\">Джордж Харрисон</span> атакует <span style=\"color: #00005f; text-decoration-color: #00005f\">Пол Маккартни</span> в <span style=\"color: #af8700; text-decoration-color: #af8700; font-style: italic\">стиле Харрисона</span> нанося <span style=\"color: #008080; text-decoration-color: #008080; font-weight: bold\">207</span> <span style=\"color: #800080; text-decoration-color: #800080; font-weight: bold\">единиц</span><span style=\"font-weight: bold\">(</span>ы<span style=\"font-weight: bold\">)</span> урона\n",
              "</pre>\n"
            ]
          },
          "metadata": {}
        },
        {
          "output_type": "display_data",
          "data": {
            "text/plain": [
              "\u001b[38;5;17mПол Маккартни\u001b[0m \u001b[1;35mбыл\u001b[0m\u001b[1m(\u001b[0mа\u001b[1m)\u001b[0m \u001b[1;38;5;160mуничтожен\u001b[0m\u001b[1;38;5;160m(\u001b[0m\u001b[1;38;5;160mа\u001b[0m\u001b[1;38;5;160m)\u001b[0m!\n"
            ],
            "text/html": [
              "<pre style=\"white-space:pre;overflow-x:auto;line-height:normal;font-family:Menlo,'DejaVu Sans Mono',consolas,'Courier New',monospace\"><span style=\"color: #00005f; text-decoration-color: #00005f\">Пол Маккартни</span> <span style=\"color: #800080; text-decoration-color: #800080; font-weight: bold\">был</span><span style=\"font-weight: bold\">(</span>а<span style=\"font-weight: bold\">)</span> <span style=\"color: #d70000; text-decoration-color: #d70000; font-weight: bold\">уничтожен(а)</span>!\n",
              "</pre>\n"
            ]
          },
          "metadata": {}
        },
        {
          "output_type": "display_data",
          "data": {
            "text/plain": [
              "\u001b[38;5;17mПол Маккартни\u001b[0m атакует \u001b[95mДжордж Харрисон\u001b[0m в \u001b[3;32mстиле Маккартни\u001b[0m нанося \u001b[1;36m2\u001b[0m \u001b[1;35mединиц\u001b[0m\u001b[1m(\u001b[0mы\u001b[1m)\u001b[0m урона\n"
            ],
            "text/html": [
              "<pre style=\"white-space:pre;overflow-x:auto;line-height:normal;font-family:Menlo,'DejaVu Sans Mono',consolas,'Courier New',monospace\"><span style=\"color: #00005f; text-decoration-color: #00005f\">Пол Маккартни</span> атакует <span style=\"color: #ff00ff; text-decoration-color: #ff00ff\">Джордж Харрисон</span> в <span style=\"color: #008000; text-decoration-color: #008000; font-style: italic\">стиле Маккартни</span> нанося <span style=\"color: #008080; text-decoration-color: #008080; font-weight: bold\">2</span> <span style=\"color: #800080; text-decoration-color: #800080; font-weight: bold\">единиц</span><span style=\"font-weight: bold\">(</span>ы<span style=\"font-weight: bold\">)</span> урона\n",
              "</pre>\n"
            ]
          },
          "metadata": {}
        },
        {
          "output_type": "display_data",
          "data": {
            "text/plain": [
              "\u001b[95mДжордж Харрисон\u001b[0m \u001b[1;35mбыл\u001b[0m\u001b[1m(\u001b[0mа\u001b[1m)\u001b[0m \u001b[1;38;5;160mуничтожен\u001b[0m\u001b[1;38;5;160m(\u001b[0m\u001b[1;38;5;160mа\u001b[0m\u001b[1;38;5;160m)\u001b[0m!\n"
            ],
            "text/html": [
              "<pre style=\"white-space:pre;overflow-x:auto;line-height:normal;font-family:Menlo,'DejaVu Sans Mono',consolas,'Courier New',monospace\"><span style=\"color: #ff00ff; text-decoration-color: #ff00ff\">Джордж Харрисон</span> <span style=\"color: #800080; text-decoration-color: #800080; font-weight: bold\">был</span><span style=\"font-weight: bold\">(</span>а<span style=\"font-weight: bold\">)</span> <span style=\"color: #d70000; text-decoration-color: #d70000; font-weight: bold\">уничтожен(а)</span>!\n",
              "</pre>\n"
            ]
          },
          "metadata": {}
        },
        {
          "output_type": "display_data",
          "data": {
            "text/plain": [
              "\n",
              "Армия \u001b[95mДжордж Харрисон\u001b[0m: \u001b[1;36m19\u001b[0m жуков осталось\n",
              "Армия \u001b[38;5;17mПол Маккартни\u001b[0m: \u001b[1;36m10\u001b[0m жуков осталось\n",
              " \n"
            ],
            "text/html": [
              "<pre style=\"white-space:pre;overflow-x:auto;line-height:normal;font-family:Menlo,'DejaVu Sans Mono',consolas,'Courier New',monospace\">\n",
              "Армия <span style=\"color: #ff00ff; text-decoration-color: #ff00ff\">Джордж Харрисон</span>: <span style=\"color: #008080; text-decoration-color: #008080; font-weight: bold\">19</span> жуков осталось\n",
              "Армия <span style=\"color: #00005f; text-decoration-color: #00005f\">Пол Маккартни</span>: <span style=\"color: #008080; text-decoration-color: #008080; font-weight: bold\">10</span> жуков осталось\n",
              " \n",
              "</pre>\n"
            ]
          },
          "metadata": {}
        },
        {
          "output_type": "display_data",
          "data": {
            "text/plain": [
              "\u001b[95mДжордж Харрисон\u001b[0m атакует \u001b[38;5;17mПол Маккартни\u001b[0m в \u001b[3;38;5;136mстиле Харрисона\u001b[0m нанося \u001b[1;36m201\u001b[0m \u001b[1;35mединиц\u001b[0m\u001b[1m(\u001b[0mы\u001b[1m)\u001b[0m урона\n"
            ],
            "text/html": [
              "<pre style=\"white-space:pre;overflow-x:auto;line-height:normal;font-family:Menlo,'DejaVu Sans Mono',consolas,'Courier New',monospace\"><span style=\"color: #ff00ff; text-decoration-color: #ff00ff\">Джордж Харрисон</span> атакует <span style=\"color: #00005f; text-decoration-color: #00005f\">Пол Маккартни</span> в <span style=\"color: #af8700; text-decoration-color: #af8700; font-style: italic\">стиле Харрисона</span> нанося <span style=\"color: #008080; text-decoration-color: #008080; font-weight: bold\">201</span> <span style=\"color: #800080; text-decoration-color: #800080; font-weight: bold\">единиц</span><span style=\"font-weight: bold\">(</span>ы<span style=\"font-weight: bold\">)</span> урона\n",
              "</pre>\n"
            ]
          },
          "metadata": {}
        },
        {
          "output_type": "display_data",
          "data": {
            "text/plain": [
              "\u001b[38;5;17mПол Маккартни\u001b[0m \u001b[1;35mбыл\u001b[0m\u001b[1m(\u001b[0mа\u001b[1m)\u001b[0m \u001b[1;38;5;160mуничтожен\u001b[0m\u001b[1;38;5;160m(\u001b[0m\u001b[1;38;5;160mа\u001b[0m\u001b[1;38;5;160m)\u001b[0m!\n"
            ],
            "text/html": [
              "<pre style=\"white-space:pre;overflow-x:auto;line-height:normal;font-family:Menlo,'DejaVu Sans Mono',consolas,'Courier New',monospace\"><span style=\"color: #00005f; text-decoration-color: #00005f\">Пол Маккартни</span> <span style=\"color: #800080; text-decoration-color: #800080; font-weight: bold\">был</span><span style=\"font-weight: bold\">(</span>а<span style=\"font-weight: bold\">)</span> <span style=\"color: #d70000; text-decoration-color: #d70000; font-weight: bold\">уничтожен(а)</span>!\n",
              "</pre>\n"
            ]
          },
          "metadata": {}
        },
        {
          "output_type": "display_data",
          "data": {
            "text/plain": [
              "\u001b[38;5;17mПол Маккартни\u001b[0m атакует \u001b[95mДжордж Харрисон\u001b[0m в \u001b[3;32mстиле Маккартни\u001b[0m нанося \u001b[1;36m2\u001b[0m \u001b[1;35mединиц\u001b[0m\u001b[1m(\u001b[0mы\u001b[1m)\u001b[0m урона\n"
            ],
            "text/html": [
              "<pre style=\"white-space:pre;overflow-x:auto;line-height:normal;font-family:Menlo,'DejaVu Sans Mono',consolas,'Courier New',monospace\"><span style=\"color: #00005f; text-decoration-color: #00005f\">Пол Маккартни</span> атакует <span style=\"color: #ff00ff; text-decoration-color: #ff00ff\">Джордж Харрисон</span> в <span style=\"color: #008000; text-decoration-color: #008000; font-style: italic\">стиле Маккартни</span> нанося <span style=\"color: #008080; text-decoration-color: #008080; font-weight: bold\">2</span> <span style=\"color: #800080; text-decoration-color: #800080; font-weight: bold\">единиц</span><span style=\"font-weight: bold\">(</span>ы<span style=\"font-weight: bold\">)</span> урона\n",
              "</pre>\n"
            ]
          },
          "metadata": {}
        },
        {
          "output_type": "display_data",
          "data": {
            "text/plain": [
              "\u001b[95mДжордж Харрисон\u001b[0m \u001b[1;35mбыл\u001b[0m\u001b[1m(\u001b[0mа\u001b[1m)\u001b[0m \u001b[1;38;5;160mуничтожен\u001b[0m\u001b[1;38;5;160m(\u001b[0m\u001b[1;38;5;160mа\u001b[0m\u001b[1;38;5;160m)\u001b[0m!\n"
            ],
            "text/html": [
              "<pre style=\"white-space:pre;overflow-x:auto;line-height:normal;font-family:Menlo,'DejaVu Sans Mono',consolas,'Courier New',monospace\"><span style=\"color: #ff00ff; text-decoration-color: #ff00ff\">Джордж Харрисон</span> <span style=\"color: #800080; text-decoration-color: #800080; font-weight: bold\">был</span><span style=\"font-weight: bold\">(</span>а<span style=\"font-weight: bold\">)</span> <span style=\"color: #d70000; text-decoration-color: #d70000; font-weight: bold\">уничтожен(а)</span>!\n",
              "</pre>\n"
            ]
          },
          "metadata": {}
        },
        {
          "output_type": "display_data",
          "data": {
            "text/plain": [
              "\n",
              "Армия \u001b[95mДжордж Харрисон\u001b[0m: \u001b[1;36m18\u001b[0m жуков осталось\n",
              "Армия \u001b[38;5;17mПол Маккартни\u001b[0m: \u001b[1;36m9\u001b[0m жуков осталось\n",
              " \n"
            ],
            "text/html": [
              "<pre style=\"white-space:pre;overflow-x:auto;line-height:normal;font-family:Menlo,'DejaVu Sans Mono',consolas,'Courier New',monospace\">\n",
              "Армия <span style=\"color: #ff00ff; text-decoration-color: #ff00ff\">Джордж Харрисон</span>: <span style=\"color: #008080; text-decoration-color: #008080; font-weight: bold\">18</span> жуков осталось\n",
              "Армия <span style=\"color: #00005f; text-decoration-color: #00005f\">Пол Маккартни</span>: <span style=\"color: #008080; text-decoration-color: #008080; font-weight: bold\">9</span> жуков осталось\n",
              " \n",
              "</pre>\n"
            ]
          },
          "metadata": {}
        },
        {
          "output_type": "display_data",
          "data": {
            "text/plain": [
              "\u001b[95mДжордж Харрисон\u001b[0m атакует \u001b[38;5;17mПол Маккартни\u001b[0m в \u001b[3;38;5;136mстиле Харрисона\u001b[0m нанося \u001b[1;36m215\u001b[0m \u001b[1;35mединиц\u001b[0m\u001b[1m(\u001b[0mы\u001b[1m)\u001b[0m урона\n"
            ],
            "text/html": [
              "<pre style=\"white-space:pre;overflow-x:auto;line-height:normal;font-family:Menlo,'DejaVu Sans Mono',consolas,'Courier New',monospace\"><span style=\"color: #ff00ff; text-decoration-color: #ff00ff\">Джордж Харрисон</span> атакует <span style=\"color: #00005f; text-decoration-color: #00005f\">Пол Маккартни</span> в <span style=\"color: #af8700; text-decoration-color: #af8700; font-style: italic\">стиле Харрисона</span> нанося <span style=\"color: #008080; text-decoration-color: #008080; font-weight: bold\">215</span> <span style=\"color: #800080; text-decoration-color: #800080; font-weight: bold\">единиц</span><span style=\"font-weight: bold\">(</span>ы<span style=\"font-weight: bold\">)</span> урона\n",
              "</pre>\n"
            ]
          },
          "metadata": {}
        },
        {
          "output_type": "display_data",
          "data": {
            "text/plain": [
              "\u001b[38;5;17mПол Маккартни\u001b[0m \u001b[1;35mбыл\u001b[0m\u001b[1m(\u001b[0mа\u001b[1m)\u001b[0m \u001b[1;38;5;160mуничтожен\u001b[0m\u001b[1;38;5;160m(\u001b[0m\u001b[1;38;5;160mа\u001b[0m\u001b[1;38;5;160m)\u001b[0m!\n"
            ],
            "text/html": [
              "<pre style=\"white-space:pre;overflow-x:auto;line-height:normal;font-family:Menlo,'DejaVu Sans Mono',consolas,'Courier New',monospace\"><span style=\"color: #00005f; text-decoration-color: #00005f\">Пол Маккартни</span> <span style=\"color: #800080; text-decoration-color: #800080; font-weight: bold\">был</span><span style=\"font-weight: bold\">(</span>а<span style=\"font-weight: bold\">)</span> <span style=\"color: #d70000; text-decoration-color: #d70000; font-weight: bold\">уничтожен(а)</span>!\n",
              "</pre>\n"
            ]
          },
          "metadata": {}
        },
        {
          "output_type": "display_data",
          "data": {
            "text/plain": [
              "\u001b[38;5;17mПол Маккартни\u001b[0m атакует \u001b[95mДжордж Харрисон\u001b[0m в \u001b[3;32mстиле Маккартни\u001b[0m нанося \u001b[1;36m1\u001b[0m \u001b[1;35mединиц\u001b[0m\u001b[1m(\u001b[0mы\u001b[1m)\u001b[0m урона\n"
            ],
            "text/html": [
              "<pre style=\"white-space:pre;overflow-x:auto;line-height:normal;font-family:Menlo,'DejaVu Sans Mono',consolas,'Courier New',monospace\"><span style=\"color: #00005f; text-decoration-color: #00005f\">Пол Маккартни</span> атакует <span style=\"color: #ff00ff; text-decoration-color: #ff00ff\">Джордж Харрисон</span> в <span style=\"color: #008000; text-decoration-color: #008000; font-style: italic\">стиле Маккартни</span> нанося <span style=\"color: #008080; text-decoration-color: #008080; font-weight: bold\">1</span> <span style=\"color: #800080; text-decoration-color: #800080; font-weight: bold\">единиц</span><span style=\"font-weight: bold\">(</span>ы<span style=\"font-weight: bold\">)</span> урона\n",
              "</pre>\n"
            ]
          },
          "metadata": {}
        },
        {
          "output_type": "display_data",
          "data": {
            "text/plain": [
              "\n",
              "Армия \u001b[95mДжордж Харрисон\u001b[0m: \u001b[1;36m18\u001b[0m жуков осталось\n",
              "Армия \u001b[38;5;17mПол Маккартни\u001b[0m: \u001b[1;36m8\u001b[0m жуков осталось\n",
              " \n"
            ],
            "text/html": [
              "<pre style=\"white-space:pre;overflow-x:auto;line-height:normal;font-family:Menlo,'DejaVu Sans Mono',consolas,'Courier New',monospace\">\n",
              "Армия <span style=\"color: #ff00ff; text-decoration-color: #ff00ff\">Джордж Харрисон</span>: <span style=\"color: #008080; text-decoration-color: #008080; font-weight: bold\">18</span> жуков осталось\n",
              "Армия <span style=\"color: #00005f; text-decoration-color: #00005f\">Пол Маккартни</span>: <span style=\"color: #008080; text-decoration-color: #008080; font-weight: bold\">8</span> жуков осталось\n",
              " \n",
              "</pre>\n"
            ]
          },
          "metadata": {}
        },
        {
          "output_type": "display_data",
          "data": {
            "text/plain": [
              "\u001b[95mДжордж Харрисон\u001b[0m атакует \u001b[38;5;17mПол Маккартни\u001b[0m в \u001b[3;38;5;136mстиле Харрисона\u001b[0m нанося \u001b[1;36m224\u001b[0m \u001b[1;35mединиц\u001b[0m\u001b[1m(\u001b[0mы\u001b[1m)\u001b[0m урона\n"
            ],
            "text/html": [
              "<pre style=\"white-space:pre;overflow-x:auto;line-height:normal;font-family:Menlo,'DejaVu Sans Mono',consolas,'Courier New',monospace\"><span style=\"color: #ff00ff; text-decoration-color: #ff00ff\">Джордж Харрисон</span> атакует <span style=\"color: #00005f; text-decoration-color: #00005f\">Пол Маккартни</span> в <span style=\"color: #af8700; text-decoration-color: #af8700; font-style: italic\">стиле Харрисона</span> нанося <span style=\"color: #008080; text-decoration-color: #008080; font-weight: bold\">224</span> <span style=\"color: #800080; text-decoration-color: #800080; font-weight: bold\">единиц</span><span style=\"font-weight: bold\">(</span>ы<span style=\"font-weight: bold\">)</span> урона\n",
              "</pre>\n"
            ]
          },
          "metadata": {}
        },
        {
          "output_type": "display_data",
          "data": {
            "text/plain": [
              "\u001b[38;5;17mПол Маккартни\u001b[0m \u001b[1;35mбыл\u001b[0m\u001b[1m(\u001b[0mа\u001b[1m)\u001b[0m \u001b[1;38;5;160mуничтожен\u001b[0m\u001b[1;38;5;160m(\u001b[0m\u001b[1;38;5;160mа\u001b[0m\u001b[1;38;5;160m)\u001b[0m!\n"
            ],
            "text/html": [
              "<pre style=\"white-space:pre;overflow-x:auto;line-height:normal;font-family:Menlo,'DejaVu Sans Mono',consolas,'Courier New',monospace\"><span style=\"color: #00005f; text-decoration-color: #00005f\">Пол Маккартни</span> <span style=\"color: #800080; text-decoration-color: #800080; font-weight: bold\">был</span><span style=\"font-weight: bold\">(</span>а<span style=\"font-weight: bold\">)</span> <span style=\"color: #d70000; text-decoration-color: #d70000; font-weight: bold\">уничтожен(а)</span>!\n",
              "</pre>\n"
            ]
          },
          "metadata": {}
        },
        {
          "output_type": "display_data",
          "data": {
            "text/plain": [
              "\u001b[38;5;17mПол Маккартни\u001b[0m атакует \u001b[95mДжордж Харрисон\u001b[0m в \u001b[3;32mстиле Маккартни\u001b[0m нанося \u001b[1;36m1\u001b[0m \u001b[1;35mединиц\u001b[0m\u001b[1m(\u001b[0mы\u001b[1m)\u001b[0m урона\n"
            ],
            "text/html": [
              "<pre style=\"white-space:pre;overflow-x:auto;line-height:normal;font-family:Menlo,'DejaVu Sans Mono',consolas,'Courier New',monospace\"><span style=\"color: #00005f; text-decoration-color: #00005f\">Пол Маккартни</span> атакует <span style=\"color: #ff00ff; text-decoration-color: #ff00ff\">Джордж Харрисон</span> в <span style=\"color: #008000; text-decoration-color: #008000; font-style: italic\">стиле Маккартни</span> нанося <span style=\"color: #008080; text-decoration-color: #008080; font-weight: bold\">1</span> <span style=\"color: #800080; text-decoration-color: #800080; font-weight: bold\">единиц</span><span style=\"font-weight: bold\">(</span>ы<span style=\"font-weight: bold\">)</span> урона\n",
              "</pre>\n"
            ]
          },
          "metadata": {}
        },
        {
          "output_type": "display_data",
          "data": {
            "text/plain": [
              "\n",
              "Армия \u001b[95mДжордж Харрисон\u001b[0m: \u001b[1;36m18\u001b[0m жуков осталось\n",
              "Армия \u001b[38;5;17mПол Маккартни\u001b[0m: \u001b[1;36m7\u001b[0m жуков осталось\n",
              " \n"
            ],
            "text/html": [
              "<pre style=\"white-space:pre;overflow-x:auto;line-height:normal;font-family:Menlo,'DejaVu Sans Mono',consolas,'Courier New',monospace\">\n",
              "Армия <span style=\"color: #ff00ff; text-decoration-color: #ff00ff\">Джордж Харрисон</span>: <span style=\"color: #008080; text-decoration-color: #008080; font-weight: bold\">18</span> жуков осталось\n",
              "Армия <span style=\"color: #00005f; text-decoration-color: #00005f\">Пол Маккартни</span>: <span style=\"color: #008080; text-decoration-color: #008080; font-weight: bold\">7</span> жуков осталось\n",
              " \n",
              "</pre>\n"
            ]
          },
          "metadata": {}
        },
        {
          "output_type": "display_data",
          "data": {
            "text/plain": [
              "\u001b[95mДжордж Харрисон\u001b[0m атакует \u001b[38;5;17mПол Маккартни\u001b[0m в \u001b[3;38;5;136mстиле Харрисона\u001b[0m нанося \u001b[1;36m62\u001b[0m \u001b[1;35mединиц\u001b[0m\u001b[1m(\u001b[0mы\u001b[1m)\u001b[0m урона\n"
            ],
            "text/html": [
              "<pre style=\"white-space:pre;overflow-x:auto;line-height:normal;font-family:Menlo,'DejaVu Sans Mono',consolas,'Courier New',monospace\"><span style=\"color: #ff00ff; text-decoration-color: #ff00ff\">Джордж Харрисон</span> атакует <span style=\"color: #00005f; text-decoration-color: #00005f\">Пол Маккартни</span> в <span style=\"color: #af8700; text-decoration-color: #af8700; font-style: italic\">стиле Харрисона</span> нанося <span style=\"color: #008080; text-decoration-color: #008080; font-weight: bold\">62</span> <span style=\"color: #800080; text-decoration-color: #800080; font-weight: bold\">единиц</span><span style=\"font-weight: bold\">(</span>ы<span style=\"font-weight: bold\">)</span> урона\n",
              "</pre>\n"
            ]
          },
          "metadata": {}
        },
        {
          "output_type": "display_data",
          "data": {
            "text/plain": [
              "\u001b[38;5;17mПол Маккартни\u001b[0m \u001b[1;35mбыл\u001b[0m\u001b[1m(\u001b[0mа\u001b[1m)\u001b[0m \u001b[1;38;5;160mуничтожен\u001b[0m\u001b[1;38;5;160m(\u001b[0m\u001b[1;38;5;160mа\u001b[0m\u001b[1;38;5;160m)\u001b[0m!\n"
            ],
            "text/html": [
              "<pre style=\"white-space:pre;overflow-x:auto;line-height:normal;font-family:Menlo,'DejaVu Sans Mono',consolas,'Courier New',monospace\"><span style=\"color: #00005f; text-decoration-color: #00005f\">Пол Маккартни</span> <span style=\"color: #800080; text-decoration-color: #800080; font-weight: bold\">был</span><span style=\"font-weight: bold\">(</span>а<span style=\"font-weight: bold\">)</span> <span style=\"color: #d70000; text-decoration-color: #d70000; font-weight: bold\">уничтожен(а)</span>!\n",
              "</pre>\n"
            ]
          },
          "metadata": {}
        },
        {
          "output_type": "display_data",
          "data": {
            "text/plain": [
              "\u001b[38;5;17mПол Маккартни\u001b[0m атакует \u001b[95mДжордж Харрисон\u001b[0m в \u001b[3;32mстиле Маккартни\u001b[0m нанося \u001b[1;36m2\u001b[0m \u001b[1;35mединиц\u001b[0m\u001b[1m(\u001b[0mы\u001b[1m)\u001b[0m урона\n"
            ],
            "text/html": [
              "<pre style=\"white-space:pre;overflow-x:auto;line-height:normal;font-family:Menlo,'DejaVu Sans Mono',consolas,'Courier New',monospace\"><span style=\"color: #00005f; text-decoration-color: #00005f\">Пол Маккартни</span> атакует <span style=\"color: #ff00ff; text-decoration-color: #ff00ff\">Джордж Харрисон</span> в <span style=\"color: #008000; text-decoration-color: #008000; font-style: italic\">стиле Маккартни</span> нанося <span style=\"color: #008080; text-decoration-color: #008080; font-weight: bold\">2</span> <span style=\"color: #800080; text-decoration-color: #800080; font-weight: bold\">единиц</span><span style=\"font-weight: bold\">(</span>ы<span style=\"font-weight: bold\">)</span> урона\n",
              "</pre>\n"
            ]
          },
          "metadata": {}
        },
        {
          "output_type": "display_data",
          "data": {
            "text/plain": [
              "\u001b[95mДжордж Харрисон\u001b[0m \u001b[1;35mбыл\u001b[0m\u001b[1m(\u001b[0mа\u001b[1m)\u001b[0m \u001b[1;38;5;160mуничтожен\u001b[0m\u001b[1;38;5;160m(\u001b[0m\u001b[1;38;5;160mа\u001b[0m\u001b[1;38;5;160m)\u001b[0m!\n"
            ],
            "text/html": [
              "<pre style=\"white-space:pre;overflow-x:auto;line-height:normal;font-family:Menlo,'DejaVu Sans Mono',consolas,'Courier New',monospace\"><span style=\"color: #ff00ff; text-decoration-color: #ff00ff\">Джордж Харрисон</span> <span style=\"color: #800080; text-decoration-color: #800080; font-weight: bold\">был</span><span style=\"font-weight: bold\">(</span>а<span style=\"font-weight: bold\">)</span> <span style=\"color: #d70000; text-decoration-color: #d70000; font-weight: bold\">уничтожен(а)</span>!\n",
              "</pre>\n"
            ]
          },
          "metadata": {}
        },
        {
          "output_type": "display_data",
          "data": {
            "text/plain": [
              "\n",
              "Армия \u001b[95mДжордж Харрисон\u001b[0m: \u001b[1;36m17\u001b[0m жуков осталось\n",
              "Армия \u001b[38;5;17mПол Маккартни\u001b[0m: \u001b[1;36m6\u001b[0m жуков осталось\n",
              " \n"
            ],
            "text/html": [
              "<pre style=\"white-space:pre;overflow-x:auto;line-height:normal;font-family:Menlo,'DejaVu Sans Mono',consolas,'Courier New',monospace\">\n",
              "Армия <span style=\"color: #ff00ff; text-decoration-color: #ff00ff\">Джордж Харрисон</span>: <span style=\"color: #008080; text-decoration-color: #008080; font-weight: bold\">17</span> жуков осталось\n",
              "Армия <span style=\"color: #00005f; text-decoration-color: #00005f\">Пол Маккартни</span>: <span style=\"color: #008080; text-decoration-color: #008080; font-weight: bold\">6</span> жуков осталось\n",
              " \n",
              "</pre>\n"
            ]
          },
          "metadata": {}
        },
        {
          "output_type": "display_data",
          "data": {
            "text/plain": [
              "\u001b[95mДжордж Харрисон\u001b[0m атакует \u001b[38;5;17mПол Маккартни\u001b[0m в \u001b[3;38;5;136mстиле Харрисона\u001b[0m нанося \u001b[1;36m54\u001b[0m \u001b[1;35mединиц\u001b[0m\u001b[1m(\u001b[0mы\u001b[1m)\u001b[0m урона\n"
            ],
            "text/html": [
              "<pre style=\"white-space:pre;overflow-x:auto;line-height:normal;font-family:Menlo,'DejaVu Sans Mono',consolas,'Courier New',monospace\"><span style=\"color: #ff00ff; text-decoration-color: #ff00ff\">Джордж Харрисон</span> атакует <span style=\"color: #00005f; text-decoration-color: #00005f\">Пол Маккартни</span> в <span style=\"color: #af8700; text-decoration-color: #af8700; font-style: italic\">стиле Харрисона</span> нанося <span style=\"color: #008080; text-decoration-color: #008080; font-weight: bold\">54</span> <span style=\"color: #800080; text-decoration-color: #800080; font-weight: bold\">единиц</span><span style=\"font-weight: bold\">(</span>ы<span style=\"font-weight: bold\">)</span> урона\n",
              "</pre>\n"
            ]
          },
          "metadata": {}
        },
        {
          "output_type": "display_data",
          "data": {
            "text/plain": [
              "\u001b[38;5;17mПол Маккартни\u001b[0m \u001b[1;35mбыл\u001b[0m\u001b[1m(\u001b[0mа\u001b[1m)\u001b[0m \u001b[1;38;5;160mуничтожен\u001b[0m\u001b[1;38;5;160m(\u001b[0m\u001b[1;38;5;160mа\u001b[0m\u001b[1;38;5;160m)\u001b[0m!\n"
            ],
            "text/html": [
              "<pre style=\"white-space:pre;overflow-x:auto;line-height:normal;font-family:Menlo,'DejaVu Sans Mono',consolas,'Courier New',monospace\"><span style=\"color: #00005f; text-decoration-color: #00005f\">Пол Маккартни</span> <span style=\"color: #800080; text-decoration-color: #800080; font-weight: bold\">был</span><span style=\"font-weight: bold\">(</span>а<span style=\"font-weight: bold\">)</span> <span style=\"color: #d70000; text-decoration-color: #d70000; font-weight: bold\">уничтожен(а)</span>!\n",
              "</pre>\n"
            ]
          },
          "metadata": {}
        },
        {
          "output_type": "display_data",
          "data": {
            "text/plain": [
              "\u001b[38;5;17mПол Маккартни\u001b[0m атакует \u001b[95mДжордж Харрисон\u001b[0m в \u001b[3;32mстиле Маккартни\u001b[0m нанося \u001b[1;36m2\u001b[0m \u001b[1;35mединиц\u001b[0m\u001b[1m(\u001b[0mы\u001b[1m)\u001b[0m урона\n"
            ],
            "text/html": [
              "<pre style=\"white-space:pre;overflow-x:auto;line-height:normal;font-family:Menlo,'DejaVu Sans Mono',consolas,'Courier New',monospace\"><span style=\"color: #00005f; text-decoration-color: #00005f\">Пол Маккартни</span> атакует <span style=\"color: #ff00ff; text-decoration-color: #ff00ff\">Джордж Харрисон</span> в <span style=\"color: #008000; text-decoration-color: #008000; font-style: italic\">стиле Маккартни</span> нанося <span style=\"color: #008080; text-decoration-color: #008080; font-weight: bold\">2</span> <span style=\"color: #800080; text-decoration-color: #800080; font-weight: bold\">единиц</span><span style=\"font-weight: bold\">(</span>ы<span style=\"font-weight: bold\">)</span> урона\n",
              "</pre>\n"
            ]
          },
          "metadata": {}
        },
        {
          "output_type": "display_data",
          "data": {
            "text/plain": [
              "\u001b[95mДжордж Харрисон\u001b[0m \u001b[1;35mбыл\u001b[0m\u001b[1m(\u001b[0mа\u001b[1m)\u001b[0m \u001b[1;38;5;160mуничтожен\u001b[0m\u001b[1;38;5;160m(\u001b[0m\u001b[1;38;5;160mа\u001b[0m\u001b[1;38;5;160m)\u001b[0m!\n"
            ],
            "text/html": [
              "<pre style=\"white-space:pre;overflow-x:auto;line-height:normal;font-family:Menlo,'DejaVu Sans Mono',consolas,'Courier New',monospace\"><span style=\"color: #ff00ff; text-decoration-color: #ff00ff\">Джордж Харрисон</span> <span style=\"color: #800080; text-decoration-color: #800080; font-weight: bold\">был</span><span style=\"font-weight: bold\">(</span>а<span style=\"font-weight: bold\">)</span> <span style=\"color: #d70000; text-decoration-color: #d70000; font-weight: bold\">уничтожен(а)</span>!\n",
              "</pre>\n"
            ]
          },
          "metadata": {}
        },
        {
          "output_type": "display_data",
          "data": {
            "text/plain": [
              "\n",
              "Армия \u001b[95mДжордж Харрисон\u001b[0m: \u001b[1;36m16\u001b[0m жуков осталось\n",
              "Армия \u001b[38;5;17mПол Маккартни\u001b[0m: \u001b[1;36m5\u001b[0m жуков осталось\n",
              " \n"
            ],
            "text/html": [
              "<pre style=\"white-space:pre;overflow-x:auto;line-height:normal;font-family:Menlo,'DejaVu Sans Mono',consolas,'Courier New',monospace\">\n",
              "Армия <span style=\"color: #ff00ff; text-decoration-color: #ff00ff\">Джордж Харрисон</span>: <span style=\"color: #008080; text-decoration-color: #008080; font-weight: bold\">16</span> жуков осталось\n",
              "Армия <span style=\"color: #00005f; text-decoration-color: #00005f\">Пол Маккартни</span>: <span style=\"color: #008080; text-decoration-color: #008080; font-weight: bold\">5</span> жуков осталось\n",
              " \n",
              "</pre>\n"
            ]
          },
          "metadata": {}
        },
        {
          "output_type": "display_data",
          "data": {
            "text/plain": [
              "\u001b[95mДжордж Харрисон\u001b[0m атакует \u001b[38;5;17mПол Маккартни\u001b[0m в \u001b[3;38;5;136mстиле Харрисона\u001b[0m нанося \u001b[1;36m72\u001b[0m \u001b[1;35mединиц\u001b[0m\u001b[1m(\u001b[0mы\u001b[1m)\u001b[0m урона\n"
            ],
            "text/html": [
              "<pre style=\"white-space:pre;overflow-x:auto;line-height:normal;font-family:Menlo,'DejaVu Sans Mono',consolas,'Courier New',monospace\"><span style=\"color: #ff00ff; text-decoration-color: #ff00ff\">Джордж Харрисон</span> атакует <span style=\"color: #00005f; text-decoration-color: #00005f\">Пол Маккартни</span> в <span style=\"color: #af8700; text-decoration-color: #af8700; font-style: italic\">стиле Харрисона</span> нанося <span style=\"color: #008080; text-decoration-color: #008080; font-weight: bold\">72</span> <span style=\"color: #800080; text-decoration-color: #800080; font-weight: bold\">единиц</span><span style=\"font-weight: bold\">(</span>ы<span style=\"font-weight: bold\">)</span> урона\n",
              "</pre>\n"
            ]
          },
          "metadata": {}
        },
        {
          "output_type": "display_data",
          "data": {
            "text/plain": [
              "\u001b[38;5;17mПол Маккартни\u001b[0m \u001b[1;35mбыл\u001b[0m\u001b[1m(\u001b[0mа\u001b[1m)\u001b[0m \u001b[1;38;5;160mуничтожен\u001b[0m\u001b[1;38;5;160m(\u001b[0m\u001b[1;38;5;160mа\u001b[0m\u001b[1;38;5;160m)\u001b[0m!\n"
            ],
            "text/html": [
              "<pre style=\"white-space:pre;overflow-x:auto;line-height:normal;font-family:Menlo,'DejaVu Sans Mono',consolas,'Courier New',monospace\"><span style=\"color: #00005f; text-decoration-color: #00005f\">Пол Маккартни</span> <span style=\"color: #800080; text-decoration-color: #800080; font-weight: bold\">был</span><span style=\"font-weight: bold\">(</span>а<span style=\"font-weight: bold\">)</span> <span style=\"color: #d70000; text-decoration-color: #d70000; font-weight: bold\">уничтожен(а)</span>!\n",
              "</pre>\n"
            ]
          },
          "metadata": {}
        },
        {
          "output_type": "display_data",
          "data": {
            "text/plain": [
              "\u001b[38;5;17mПол Маккартни\u001b[0m атакует \u001b[95mДжордж Харрисон\u001b[0m в \u001b[3;32mстиле Маккартни\u001b[0m нанося \u001b[1;36m2\u001b[0m \u001b[1;35mединиц\u001b[0m\u001b[1m(\u001b[0mы\u001b[1m)\u001b[0m урона\n"
            ],
            "text/html": [
              "<pre style=\"white-space:pre;overflow-x:auto;line-height:normal;font-family:Menlo,'DejaVu Sans Mono',consolas,'Courier New',monospace\"><span style=\"color: #00005f; text-decoration-color: #00005f\">Пол Маккартни</span> атакует <span style=\"color: #ff00ff; text-decoration-color: #ff00ff\">Джордж Харрисон</span> в <span style=\"color: #008000; text-decoration-color: #008000; font-style: italic\">стиле Маккартни</span> нанося <span style=\"color: #008080; text-decoration-color: #008080; font-weight: bold\">2</span> <span style=\"color: #800080; text-decoration-color: #800080; font-weight: bold\">единиц</span><span style=\"font-weight: bold\">(</span>ы<span style=\"font-weight: bold\">)</span> урона\n",
              "</pre>\n"
            ]
          },
          "metadata": {}
        },
        {
          "output_type": "display_data",
          "data": {
            "text/plain": [
              "\u001b[95mДжордж Харрисон\u001b[0m \u001b[1;35mбыл\u001b[0m\u001b[1m(\u001b[0mа\u001b[1m)\u001b[0m \u001b[1;38;5;160mуничтожен\u001b[0m\u001b[1;38;5;160m(\u001b[0m\u001b[1;38;5;160mа\u001b[0m\u001b[1;38;5;160m)\u001b[0m!\n"
            ],
            "text/html": [
              "<pre style=\"white-space:pre;overflow-x:auto;line-height:normal;font-family:Menlo,'DejaVu Sans Mono',consolas,'Courier New',monospace\"><span style=\"color: #ff00ff; text-decoration-color: #ff00ff\">Джордж Харрисон</span> <span style=\"color: #800080; text-decoration-color: #800080; font-weight: bold\">был</span><span style=\"font-weight: bold\">(</span>а<span style=\"font-weight: bold\">)</span> <span style=\"color: #d70000; text-decoration-color: #d70000; font-weight: bold\">уничтожен(а)</span>!\n",
              "</pre>\n"
            ]
          },
          "metadata": {}
        },
        {
          "output_type": "display_data",
          "data": {
            "text/plain": [
              "\n",
              "Армия \u001b[95mДжордж Харрисон\u001b[0m: \u001b[1;36m15\u001b[0m жуков осталось\n",
              "Армия \u001b[38;5;17mПол Маккартни\u001b[0m: \u001b[1;36m4\u001b[0m жуков осталось\n",
              " \n"
            ],
            "text/html": [
              "<pre style=\"white-space:pre;overflow-x:auto;line-height:normal;font-family:Menlo,'DejaVu Sans Mono',consolas,'Courier New',monospace\">\n",
              "Армия <span style=\"color: #ff00ff; text-decoration-color: #ff00ff\">Джордж Харрисон</span>: <span style=\"color: #008080; text-decoration-color: #008080; font-weight: bold\">15</span> жуков осталось\n",
              "Армия <span style=\"color: #00005f; text-decoration-color: #00005f\">Пол Маккартни</span>: <span style=\"color: #008080; text-decoration-color: #008080; font-weight: bold\">4</span> жуков осталось\n",
              " \n",
              "</pre>\n"
            ]
          },
          "metadata": {}
        },
        {
          "output_type": "display_data",
          "data": {
            "text/plain": [
              "\u001b[95mДжордж Харрисон\u001b[0m атакует \u001b[38;5;17mПол Маккартни\u001b[0m в \u001b[3;38;5;136mстиле Харрисона\u001b[0m нанося \u001b[1;36m139\u001b[0m \u001b[1;35mединиц\u001b[0m\u001b[1m(\u001b[0mы\u001b[1m)\u001b[0m урона\n"
            ],
            "text/html": [
              "<pre style=\"white-space:pre;overflow-x:auto;line-height:normal;font-family:Menlo,'DejaVu Sans Mono',consolas,'Courier New',monospace\"><span style=\"color: #ff00ff; text-decoration-color: #ff00ff\">Джордж Харрисон</span> атакует <span style=\"color: #00005f; text-decoration-color: #00005f\">Пол Маккартни</span> в <span style=\"color: #af8700; text-decoration-color: #af8700; font-style: italic\">стиле Харрисона</span> нанося <span style=\"color: #008080; text-decoration-color: #008080; font-weight: bold\">139</span> <span style=\"color: #800080; text-decoration-color: #800080; font-weight: bold\">единиц</span><span style=\"font-weight: bold\">(</span>ы<span style=\"font-weight: bold\">)</span> урона\n",
              "</pre>\n"
            ]
          },
          "metadata": {}
        },
        {
          "output_type": "display_data",
          "data": {
            "text/plain": [
              "\u001b[38;5;17mПол Маккартни\u001b[0m \u001b[1;35mбыл\u001b[0m\u001b[1m(\u001b[0mа\u001b[1m)\u001b[0m \u001b[1;38;5;160mуничтожен\u001b[0m\u001b[1;38;5;160m(\u001b[0m\u001b[1;38;5;160mа\u001b[0m\u001b[1;38;5;160m)\u001b[0m!\n"
            ],
            "text/html": [
              "<pre style=\"white-space:pre;overflow-x:auto;line-height:normal;font-family:Menlo,'DejaVu Sans Mono',consolas,'Courier New',monospace\"><span style=\"color: #00005f; text-decoration-color: #00005f\">Пол Маккартни</span> <span style=\"color: #800080; text-decoration-color: #800080; font-weight: bold\">был</span><span style=\"font-weight: bold\">(</span>а<span style=\"font-weight: bold\">)</span> <span style=\"color: #d70000; text-decoration-color: #d70000; font-weight: bold\">уничтожен(а)</span>!\n",
              "</pre>\n"
            ]
          },
          "metadata": {}
        },
        {
          "output_type": "display_data",
          "data": {
            "text/plain": [
              "\u001b[38;5;17mПол Маккартни\u001b[0m атакует \u001b[95mДжордж Харрисон\u001b[0m в \u001b[3;32mстиле Маккартни\u001b[0m нанося \u001b[1;36m2\u001b[0m \u001b[1;35mединиц\u001b[0m\u001b[1m(\u001b[0mы\u001b[1m)\u001b[0m урона\n"
            ],
            "text/html": [
              "<pre style=\"white-space:pre;overflow-x:auto;line-height:normal;font-family:Menlo,'DejaVu Sans Mono',consolas,'Courier New',monospace\"><span style=\"color: #00005f; text-decoration-color: #00005f\">Пол Маккартни</span> атакует <span style=\"color: #ff00ff; text-decoration-color: #ff00ff\">Джордж Харрисон</span> в <span style=\"color: #008000; text-decoration-color: #008000; font-style: italic\">стиле Маккартни</span> нанося <span style=\"color: #008080; text-decoration-color: #008080; font-weight: bold\">2</span> <span style=\"color: #800080; text-decoration-color: #800080; font-weight: bold\">единиц</span><span style=\"font-weight: bold\">(</span>ы<span style=\"font-weight: bold\">)</span> урона\n",
              "</pre>\n"
            ]
          },
          "metadata": {}
        },
        {
          "output_type": "display_data",
          "data": {
            "text/plain": [
              "\u001b[95mДжордж Харрисон\u001b[0m \u001b[1;35mбыл\u001b[0m\u001b[1m(\u001b[0mа\u001b[1m)\u001b[0m \u001b[1;38;5;160mуничтожен\u001b[0m\u001b[1;38;5;160m(\u001b[0m\u001b[1;38;5;160mа\u001b[0m\u001b[1;38;5;160m)\u001b[0m!\n"
            ],
            "text/html": [
              "<pre style=\"white-space:pre;overflow-x:auto;line-height:normal;font-family:Menlo,'DejaVu Sans Mono',consolas,'Courier New',monospace\"><span style=\"color: #ff00ff; text-decoration-color: #ff00ff\">Джордж Харрисон</span> <span style=\"color: #800080; text-decoration-color: #800080; font-weight: bold\">был</span><span style=\"font-weight: bold\">(</span>а<span style=\"font-weight: bold\">)</span> <span style=\"color: #d70000; text-decoration-color: #d70000; font-weight: bold\">уничтожен(а)</span>!\n",
              "</pre>\n"
            ]
          },
          "metadata": {}
        },
        {
          "output_type": "display_data",
          "data": {
            "text/plain": [
              "\n",
              "Армия \u001b[95mДжордж Харрисон\u001b[0m: \u001b[1;36m14\u001b[0m жуков осталось\n",
              "Армия \u001b[38;5;17mПол Маккартни\u001b[0m: \u001b[1;36m3\u001b[0m жуков осталось\n",
              " \n"
            ],
            "text/html": [
              "<pre style=\"white-space:pre;overflow-x:auto;line-height:normal;font-family:Menlo,'DejaVu Sans Mono',consolas,'Courier New',monospace\">\n",
              "Армия <span style=\"color: #ff00ff; text-decoration-color: #ff00ff\">Джордж Харрисон</span>: <span style=\"color: #008080; text-decoration-color: #008080; font-weight: bold\">14</span> жуков осталось\n",
              "Армия <span style=\"color: #00005f; text-decoration-color: #00005f\">Пол Маккартни</span>: <span style=\"color: #008080; text-decoration-color: #008080; font-weight: bold\">3</span> жуков осталось\n",
              " \n",
              "</pre>\n"
            ]
          },
          "metadata": {}
        },
        {
          "output_type": "display_data",
          "data": {
            "text/plain": [
              "\u001b[95mДжордж Харрисон\u001b[0m атакует \u001b[38;5;17mПол Маккартни\u001b[0m в \u001b[3;38;5;136mстиле Харрисона\u001b[0m нанося \u001b[1;36m179\u001b[0m \u001b[1;35mединиц\u001b[0m\u001b[1m(\u001b[0mы\u001b[1m)\u001b[0m урона\n"
            ],
            "text/html": [
              "<pre style=\"white-space:pre;overflow-x:auto;line-height:normal;font-family:Menlo,'DejaVu Sans Mono',consolas,'Courier New',monospace\"><span style=\"color: #ff00ff; text-decoration-color: #ff00ff\">Джордж Харрисон</span> атакует <span style=\"color: #00005f; text-decoration-color: #00005f\">Пол Маккартни</span> в <span style=\"color: #af8700; text-decoration-color: #af8700; font-style: italic\">стиле Харрисона</span> нанося <span style=\"color: #008080; text-decoration-color: #008080; font-weight: bold\">179</span> <span style=\"color: #800080; text-decoration-color: #800080; font-weight: bold\">единиц</span><span style=\"font-weight: bold\">(</span>ы<span style=\"font-weight: bold\">)</span> урона\n",
              "</pre>\n"
            ]
          },
          "metadata": {}
        },
        {
          "output_type": "display_data",
          "data": {
            "text/plain": [
              "\u001b[38;5;17mПол Маккартни\u001b[0m \u001b[1;35mбыл\u001b[0m\u001b[1m(\u001b[0mа\u001b[1m)\u001b[0m \u001b[1;38;5;160mуничтожен\u001b[0m\u001b[1;38;5;160m(\u001b[0m\u001b[1;38;5;160mа\u001b[0m\u001b[1;38;5;160m)\u001b[0m!\n"
            ],
            "text/html": [
              "<pre style=\"white-space:pre;overflow-x:auto;line-height:normal;font-family:Menlo,'DejaVu Sans Mono',consolas,'Courier New',monospace\"><span style=\"color: #00005f; text-decoration-color: #00005f\">Пол Маккартни</span> <span style=\"color: #800080; text-decoration-color: #800080; font-weight: bold\">был</span><span style=\"font-weight: bold\">(</span>а<span style=\"font-weight: bold\">)</span> <span style=\"color: #d70000; text-decoration-color: #d70000; font-weight: bold\">уничтожен(а)</span>!\n",
              "</pre>\n"
            ]
          },
          "metadata": {}
        },
        {
          "output_type": "display_data",
          "data": {
            "text/plain": [
              "\u001b[38;5;17mПол Маккартни\u001b[0m атакует \u001b[95mДжордж Харрисон\u001b[0m в \u001b[3;32mстиле Маккартни\u001b[0m нанося \u001b[1;36m2\u001b[0m \u001b[1;35mединиц\u001b[0m\u001b[1m(\u001b[0mы\u001b[1m)\u001b[0m урона\n"
            ],
            "text/html": [
              "<pre style=\"white-space:pre;overflow-x:auto;line-height:normal;font-family:Menlo,'DejaVu Sans Mono',consolas,'Courier New',monospace\"><span style=\"color: #00005f; text-decoration-color: #00005f\">Пол Маккартни</span> атакует <span style=\"color: #ff00ff; text-decoration-color: #ff00ff\">Джордж Харрисон</span> в <span style=\"color: #008000; text-decoration-color: #008000; font-style: italic\">стиле Маккартни</span> нанося <span style=\"color: #008080; text-decoration-color: #008080; font-weight: bold\">2</span> <span style=\"color: #800080; text-decoration-color: #800080; font-weight: bold\">единиц</span><span style=\"font-weight: bold\">(</span>ы<span style=\"font-weight: bold\">)</span> урона\n",
              "</pre>\n"
            ]
          },
          "metadata": {}
        },
        {
          "output_type": "display_data",
          "data": {
            "text/plain": [
              "\n",
              "Армия \u001b[95mДжордж Харрисон\u001b[0m: \u001b[1;36m14\u001b[0m жуков осталось\n",
              "Армия \u001b[38;5;17mПол Маккартни\u001b[0m: \u001b[1;36m2\u001b[0m жуков осталось\n",
              " \n"
            ],
            "text/html": [
              "<pre style=\"white-space:pre;overflow-x:auto;line-height:normal;font-family:Menlo,'DejaVu Sans Mono',consolas,'Courier New',monospace\">\n",
              "Армия <span style=\"color: #ff00ff; text-decoration-color: #ff00ff\">Джордж Харрисон</span>: <span style=\"color: #008080; text-decoration-color: #008080; font-weight: bold\">14</span> жуков осталось\n",
              "Армия <span style=\"color: #00005f; text-decoration-color: #00005f\">Пол Маккартни</span>: <span style=\"color: #008080; text-decoration-color: #008080; font-weight: bold\">2</span> жуков осталось\n",
              " \n",
              "</pre>\n"
            ]
          },
          "metadata": {}
        },
        {
          "output_type": "display_data",
          "data": {
            "text/plain": [
              "\u001b[95mДжордж Харрисон\u001b[0m атакует \u001b[38;5;17mПол Маккартни\u001b[0m в \u001b[3;38;5;136mстиле Харрисона\u001b[0m нанося \u001b[1;36m142\u001b[0m \u001b[1;35mединиц\u001b[0m\u001b[1m(\u001b[0mы\u001b[1m)\u001b[0m урона\n"
            ],
            "text/html": [
              "<pre style=\"white-space:pre;overflow-x:auto;line-height:normal;font-family:Menlo,'DejaVu Sans Mono',consolas,'Courier New',monospace\"><span style=\"color: #ff00ff; text-decoration-color: #ff00ff\">Джордж Харрисон</span> атакует <span style=\"color: #00005f; text-decoration-color: #00005f\">Пол Маккартни</span> в <span style=\"color: #af8700; text-decoration-color: #af8700; font-style: italic\">стиле Харрисона</span> нанося <span style=\"color: #008080; text-decoration-color: #008080; font-weight: bold\">142</span> <span style=\"color: #800080; text-decoration-color: #800080; font-weight: bold\">единиц</span><span style=\"font-weight: bold\">(</span>ы<span style=\"font-weight: bold\">)</span> урона\n",
              "</pre>\n"
            ]
          },
          "metadata": {}
        },
        {
          "output_type": "display_data",
          "data": {
            "text/plain": [
              "\u001b[38;5;17mПол Маккартни\u001b[0m \u001b[1;35mбыл\u001b[0m\u001b[1m(\u001b[0mа\u001b[1m)\u001b[0m \u001b[1;38;5;160mуничтожен\u001b[0m\u001b[1;38;5;160m(\u001b[0m\u001b[1;38;5;160mа\u001b[0m\u001b[1;38;5;160m)\u001b[0m!\n"
            ],
            "text/html": [
              "<pre style=\"white-space:pre;overflow-x:auto;line-height:normal;font-family:Menlo,'DejaVu Sans Mono',consolas,'Courier New',monospace\"><span style=\"color: #00005f; text-decoration-color: #00005f\">Пол Маккартни</span> <span style=\"color: #800080; text-decoration-color: #800080; font-weight: bold\">был</span><span style=\"font-weight: bold\">(</span>а<span style=\"font-weight: bold\">)</span> <span style=\"color: #d70000; text-decoration-color: #d70000; font-weight: bold\">уничтожен(а)</span>!\n",
              "</pre>\n"
            ]
          },
          "metadata": {}
        },
        {
          "output_type": "display_data",
          "data": {
            "text/plain": [
              "\u001b[38;5;17mПол Маккартни\u001b[0m атакует \u001b[95mДжордж Харрисон\u001b[0m в \u001b[3;32mстиле Маккартни\u001b[0m нанося \u001b[1;36m2\u001b[0m \u001b[1;35mединиц\u001b[0m\u001b[1m(\u001b[0mы\u001b[1m)\u001b[0m урона\n"
            ],
            "text/html": [
              "<pre style=\"white-space:pre;overflow-x:auto;line-height:normal;font-family:Menlo,'DejaVu Sans Mono',consolas,'Courier New',monospace\"><span style=\"color: #00005f; text-decoration-color: #00005f\">Пол Маккартни</span> атакует <span style=\"color: #ff00ff; text-decoration-color: #ff00ff\">Джордж Харрисон</span> в <span style=\"color: #008000; text-decoration-color: #008000; font-style: italic\">стиле Маккартни</span> нанося <span style=\"color: #008080; text-decoration-color: #008080; font-weight: bold\">2</span> <span style=\"color: #800080; text-decoration-color: #800080; font-weight: bold\">единиц</span><span style=\"font-weight: bold\">(</span>ы<span style=\"font-weight: bold\">)</span> урона\n",
              "</pre>\n"
            ]
          },
          "metadata": {}
        },
        {
          "output_type": "display_data",
          "data": {
            "text/plain": [
              "\u001b[95mДжордж Харрисон\u001b[0m \u001b[1;35mбыл\u001b[0m\u001b[1m(\u001b[0mа\u001b[1m)\u001b[0m \u001b[1;38;5;160mуничтожен\u001b[0m\u001b[1;38;5;160m(\u001b[0m\u001b[1;38;5;160mа\u001b[0m\u001b[1;38;5;160m)\u001b[0m!\n"
            ],
            "text/html": [
              "<pre style=\"white-space:pre;overflow-x:auto;line-height:normal;font-family:Menlo,'DejaVu Sans Mono',consolas,'Courier New',monospace\"><span style=\"color: #ff00ff; text-decoration-color: #ff00ff\">Джордж Харрисон</span> <span style=\"color: #800080; text-decoration-color: #800080; font-weight: bold\">был</span><span style=\"font-weight: bold\">(</span>а<span style=\"font-weight: bold\">)</span> <span style=\"color: #d70000; text-decoration-color: #d70000; font-weight: bold\">уничтожен(а)</span>!\n",
              "</pre>\n"
            ]
          },
          "metadata": {}
        },
        {
          "output_type": "display_data",
          "data": {
            "text/plain": [
              "\n",
              "Армия \u001b[95mДжордж Харрисон\u001b[0m: \u001b[1;36m13\u001b[0m жуков осталось\n",
              "Армия \u001b[38;5;17mПол Маккартни\u001b[0m: \u001b[1;36m1\u001b[0m жуков осталось\n",
              " \n"
            ],
            "text/html": [
              "<pre style=\"white-space:pre;overflow-x:auto;line-height:normal;font-family:Menlo,'DejaVu Sans Mono',consolas,'Courier New',monospace\">\n",
              "Армия <span style=\"color: #ff00ff; text-decoration-color: #ff00ff\">Джордж Харрисон</span>: <span style=\"color: #008080; text-decoration-color: #008080; font-weight: bold\">13</span> жуков осталось\n",
              "Армия <span style=\"color: #00005f; text-decoration-color: #00005f\">Пол Маккартни</span>: <span style=\"color: #008080; text-decoration-color: #008080; font-weight: bold\">1</span> жуков осталось\n",
              " \n",
              "</pre>\n"
            ]
          },
          "metadata": {}
        },
        {
          "output_type": "display_data",
          "data": {
            "text/plain": [
              "\u001b[95mДжордж Харрисон\u001b[0m атакует \u001b[38;5;17mПол Маккартни\u001b[0m в \u001b[3;38;5;136mстиле Харрисона\u001b[0m нанося \u001b[1;36m206\u001b[0m \u001b[1;35mединиц\u001b[0m\u001b[1m(\u001b[0mы\u001b[1m)\u001b[0m урона\n"
            ],
            "text/html": [
              "<pre style=\"white-space:pre;overflow-x:auto;line-height:normal;font-family:Menlo,'DejaVu Sans Mono',consolas,'Courier New',monospace\"><span style=\"color: #ff00ff; text-decoration-color: #ff00ff\">Джордж Харрисон</span> атакует <span style=\"color: #00005f; text-decoration-color: #00005f\">Пол Маккартни</span> в <span style=\"color: #af8700; text-decoration-color: #af8700; font-style: italic\">стиле Харрисона</span> нанося <span style=\"color: #008080; text-decoration-color: #008080; font-weight: bold\">206</span> <span style=\"color: #800080; text-decoration-color: #800080; font-weight: bold\">единиц</span><span style=\"font-weight: bold\">(</span>ы<span style=\"font-weight: bold\">)</span> урона\n",
              "</pre>\n"
            ]
          },
          "metadata": {}
        },
        {
          "output_type": "display_data",
          "data": {
            "text/plain": [
              "\u001b[38;5;17mПол Маккартни\u001b[0m \u001b[1;35mбыл\u001b[0m\u001b[1m(\u001b[0mа\u001b[1m)\u001b[0m \u001b[1;38;5;160mуничтожен\u001b[0m\u001b[1;38;5;160m(\u001b[0m\u001b[1;38;5;160mа\u001b[0m\u001b[1;38;5;160m)\u001b[0m!\n"
            ],
            "text/html": [
              "<pre style=\"white-space:pre;overflow-x:auto;line-height:normal;font-family:Menlo,'DejaVu Sans Mono',consolas,'Courier New',monospace\"><span style=\"color: #00005f; text-decoration-color: #00005f\">Пол Маккартни</span> <span style=\"color: #800080; text-decoration-color: #800080; font-weight: bold\">был</span><span style=\"font-weight: bold\">(</span>а<span style=\"font-weight: bold\">)</span> <span style=\"color: #d70000; text-decoration-color: #d70000; font-weight: bold\">уничтожен(а)</span>!\n",
              "</pre>\n"
            ]
          },
          "metadata": {}
        },
        {
          "output_type": "display_data",
          "data": {
            "text/plain": [
              "\n",
              "Армия \u001b[95mДжордж Харрисон\u001b[0m: \u001b[1;36m13\u001b[0m жуков осталось\n",
              "Армия \u001b[38;5;17mПол Маккартни\u001b[0m: \u001b[1;36m0\u001b[0m жуков осталось\n",
              " \n"
            ],
            "text/html": [
              "<pre style=\"white-space:pre;overflow-x:auto;line-height:normal;font-family:Menlo,'DejaVu Sans Mono',consolas,'Courier New',monospace\">\n",
              "Армия <span style=\"color: #ff00ff; text-decoration-color: #ff00ff\">Джордж Харрисон</span>: <span style=\"color: #008080; text-decoration-color: #008080; font-weight: bold\">13</span> жуков осталось\n",
              "Армия <span style=\"color: #00005f; text-decoration-color: #00005f\">Пол Маккартни</span>: <span style=\"color: #008080; text-decoration-color: #008080; font-weight: bold\">0</span> жуков осталось\n",
              " \n",
              "</pre>\n"
            ]
          },
          "metadata": {}
        },
        {
          "output_type": "display_data",
          "data": {
            "text/plain": [
              " \n",
              "Армия \u001b[38;5;17mПол Маккартни\u001b[0m была \u001b[1;38;5;160mуничтожена\u001b[0m!\n",
              " \n"
            ],
            "text/html": [
              "<pre style=\"white-space:pre;overflow-x:auto;line-height:normal;font-family:Menlo,'DejaVu Sans Mono',consolas,'Courier New',monospace\"> \n",
              "Армия <span style=\"color: #00005f; text-decoration-color: #00005f\">Пол Маккартни</span> была <span style=\"color: #d70000; text-decoration-color: #d70000; font-weight: bold\">уничтожена</span>!\n",
              " \n",
              "</pre>\n"
            ]
          },
          "metadata": {}
        },
        {
          "output_type": "display_data",
          "data": {
            "text/plain": [
              " \n",
              "Армия \u001b[95mДжордж Харрисон\u001b[0m \u001b[1;38;5;46mпобедила\u001b[0m!\n",
              " \n"
            ],
            "text/html": [
              "<pre style=\"white-space:pre;overflow-x:auto;line-height:normal;font-family:Menlo,'DejaVu Sans Mono',consolas,'Courier New',monospace\"> \n",
              "Армия <span style=\"color: #ff00ff; text-decoration-color: #ff00ff\">Джордж Харрисон</span> <span style=\"color: #00ff00; text-decoration-color: #00ff00; font-weight: bold\">победила</span>!\n",
              " \n",
              "</pre>\n"
            ]
          },
          "metadata": {}
        }
      ]
    }
  ]
}