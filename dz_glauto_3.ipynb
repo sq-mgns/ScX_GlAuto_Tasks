{
  "nbformat": 4,
  "nbformat_minor": 0,
  "metadata": {
    "colab": {
      "provenance": []
    },
    "kernelspec": {
      "name": "python3",
      "display_name": "Python 3"
    },
    "language_info": {
      "name": "python"
    }
  },
  "cells": [
    {
      "cell_type": "code",
      "execution_count": 6,
      "metadata": {
        "colab": {
          "base_uri": "https://localhost:8080/"
        },
        "id": "miBBw-2HHKqk",
        "outputId": "f92f8c47-3b7f-48e4-c38f-1ede627a196e"
      },
      "outputs": [
        {
          "output_type": "stream",
          "name": "stdout",
          "text": [
            "Выберите кол-во рядов треугольника: 7\n",
            "      1 \n",
            "     1 1 \n",
            "    1 2 1 \n",
            "   1 3 3 1 \n",
            "  1 4 6 4 1 \n",
            " 1 5 10 10 5 1 \n",
            "1 6 15 20 15 6 1 \n"
          ]
        }
      ],
      "source": [
        "n = int(input(\"Выберите кол-во рядов треугольника: \"))\n",
        "treug = []\n",
        "\n",
        "for i in range(n):\n",
        "    stroka = []\n",
        "    for j in range(i+1):\n",
        "        if j == 0 or j == i:\n",
        "            stroka.append(1)\n",
        "        else:\n",
        "            sum = treug[i-1][j-1] + treug[i-1][j]\n",
        "            stroka.append(sum)\n",
        "    treug.append(stroka)\n",
        "\n",
        "for i in range(n):\n",
        "    probel = \" \" * (n-i-1)\n",
        "    print(probel, end=\"\")\n",
        "\n",
        "    for number in treug[i]:\n",
        "        print(number, end=\" \")\n",
        "    print()"
      ]
    }
  ]
}