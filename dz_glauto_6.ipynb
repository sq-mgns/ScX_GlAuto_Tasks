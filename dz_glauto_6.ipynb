{
  "nbformat": 4,
  "nbformat_minor": 0,
  "metadata": {
    "colab": {
      "provenance": []
    },
    "kernelspec": {
      "name": "python3",
      "display_name": "Python 3"
    },
    "language_info": {
      "name": "python"
    }
  },
  "cells": [
    {
      "cell_type": "code",
      "source": [
        "cache = {\n",
        "          0:0,\n",
        "          1:1,\n",
        "          2:1,\n",
        "          3:2,\n",
        "          4:3\n",
        "          }\n",
        "\n",
        "def  fibonacci(n):\n",
        "    if n in cache:\n",
        "        return cache[n]\n",
        "    current = fibonacci(n - 1) + fibonacci(n - 2)\n",
        "    cache[n] = current\n",
        "    return current\n",
        "\n",
        "n = int(input(\"Введите номер числа Фибоначчи: \"))\n",
        "print(f'{n}-е число Фибоначчи: {fibonacci(n)}')"
      ],
      "metadata": {
        "colab": {
          "base_uri": "https://localhost:8080/"
        },
        "id": "svJwXkUNLEEn",
        "outputId": "15b4d47c-514d-452e-f498-0db93ab2a6ed"
      },
      "execution_count": 13,
      "outputs": [
        {
          "output_type": "stream",
          "name": "stdout",
          "text": [
            "Введите номер числа Фибоначчи: 23\n",
            "23-е число Фибоначчи: 28657\n"
          ]
        }
      ]
    }
  ]
}