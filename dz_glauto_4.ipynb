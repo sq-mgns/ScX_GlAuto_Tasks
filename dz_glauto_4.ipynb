{
  "nbformat": 4,
  "nbformat_minor": 0,
  "metadata": {
    "colab": {
      "provenance": []
    },
    "kernelspec": {
      "name": "python3",
      "display_name": "Python 3"
    },
    "language_info": {
      "name": "python"
    }
  },
  "cells": [
    {
      "cell_type": "code",
      "execution_count": 7,
      "metadata": {
        "colab": {
          "base_uri": "https://localhost:8080/",
          "height": 69
        },
        "id": "miBBw-2HHKqk",
        "outputId": "0b5bae55-2854-4dbb-ca1f-899e8900b36d"
      },
      "outputs": [
        {
          "output_type": "stream",
          "name": "stdout",
          "text": [
            "Введите ваше имя: Nikita\n",
            "nIkItA\n"
          ]
        },
        {
          "output_type": "display_data",
          "data": {
            "text/plain": [
              "Hello \u001b[1;33mNikita\u001b[0m!\n"
            ],
            "text/html": [
              "<pre style=\"white-space:pre;overflow-x:auto;line-height:normal;font-family:Menlo,'DejaVu Sans Mono',consolas,'Courier New',monospace\">Hello <span style=\"color: #808000; text-decoration-color: #808000; font-weight: bold\">Nikita</span>!\n",
              "</pre>\n"
            ]
          },
          "metadata": {}
        }
      ],
      "source": [
        "from rich import print as rprint\n",
        "\n",
        "name = input('Введите ваше имя: ')\n",
        "\n",
        "def change_name(name):\n",
        "    a = \"\"\n",
        "    for i in range(0, len(name)):\n",
        "        if i % 2 == 1:\n",
        "            a += name[i].upper()\n",
        "        else:\n",
        "            a += name[i].lower()\n",
        "    return a\n",
        "\n",
        "def greet(name):\n",
        "    rprint(f'Hello [bold yellow]{name}[/bold yellow]!')\n",
        "\n",
        "print(change_name(name))\n",
        "greet(name)"
      ]
    }
  ]
}